{
 "cells": [
  {
   "cell_type": "code",
   "execution_count": 25,
   "metadata": {
    "ExecuteTime": {
     "end_time": "2021-04-16T21:18:14.086355Z",
     "start_time": "2021-04-16T21:18:14.083353Z"
    }
   },
   "outputs": [
    {
     "data": {
      "text/html": [
       "<style>.container { width:100% !important; }</style>"
      ],
      "text/plain": [
       "<IPython.core.display.HTML object>"
      ]
     },
     "metadata": {},
     "output_type": "display_data"
    }
   ],
   "source": [
    "from IPython.core.display import display, HTML\n",
    "display(HTML(\"<style>.container { width:100% !important; }</style>\"))"
   ]
  },
  {
   "cell_type": "markdown",
   "metadata": {
    "toc": true
   },
   "source": [
    "<h1>Table of Contents<span class=\"tocSkip\"></span></h1>\n",
    "<div class=\"toc\"><ul class=\"toc-item\"><li><span><a href=\"#Doğrusal-Denklemler\" data-toc-modified-id=\"Doğrusal-Denklemler-1\"><span class=\"toc-item-num\">1&nbsp;&nbsp;</span>Doğrusal Denklemler</a></span><ul class=\"toc-item\"><li><span><a href=\"#Vektör\" data-toc-modified-id=\"Vektör-1.1\"><span class=\"toc-item-num\">1.1&nbsp;&nbsp;</span>Vektör</a></span></li><li><span><a href=\"#Matris\" data-toc-modified-id=\"Matris-1.2\"><span class=\"toc-item-num\">1.2&nbsp;&nbsp;</span>Matris</a></span></li><li><span><a href=\"#Matris-Çarpımı\" data-toc-modified-id=\"Matris-Çarpımı-1.3\"><span class=\"toc-item-num\">1.3&nbsp;&nbsp;</span>Matris Çarpımı</a></span></li><li><span><a href=\"#Doğrusal-Denklem\" data-toc-modified-id=\"Doğrusal-Denklem-1.4\"><span class=\"toc-item-num\">1.4&nbsp;&nbsp;</span>Doğrusal Denklem</a></span></li></ul></li></ul></div>"
   ]
  },
  {
   "cell_type": "markdown",
   "metadata": {
    "ExecuteTime": {
     "end_time": "2021-04-16T21:16:09.225684Z",
     "start_time": "2021-04-16T21:16:09.223822Z"
    }
   },
   "source": [
    "# Doğrusal Denklemler"
   ]
  },
  {
   "cell_type": "code",
   "execution_count": 26,
   "metadata": {
    "ExecuteTime": {
     "end_time": "2021-04-17T11:30:42.586998Z",
     "start_time": "2021-04-17T11:30:42.584298Z"
    }
   },
   "outputs": [],
   "source": [
    "import pandas as pd\n",
    "import numpy as np"
   ]
  },
  {
   "cell_type": "markdown",
   "metadata": {},
   "source": [
    "## Vektör"
   ]
  },
  {
   "cell_type": "code",
   "execution_count": 29,
   "metadata": {
    "ExecuteTime": {
     "end_time": "2021-04-17T11:30:54.148792Z",
     "start_time": "2021-04-17T11:30:54.145059Z"
    },
    "pycharm": {
     "name": "#%%\n"
    }
   },
   "outputs": [
    {
     "data": {
      "text/plain": [
       "array([1, 2])"
      ]
     },
     "execution_count": 29,
     "metadata": {},
     "output_type": "execute_result"
    }
   ],
   "source": [
    "v=np.array([1,2])\n",
    "v"
   ]
  },
  {
   "cell_type": "markdown",
   "metadata": {
    "pycharm": {
     "name": "#%% md\n"
    }
   },
   "source": [
    "\n",
    "##  Matris"
   ]
  },
  {
   "cell_type": "code",
   "execution_count": 30,
   "metadata": {
    "ExecuteTime": {
     "end_time": "2021-04-17T11:31:07.022655Z",
     "start_time": "2021-04-17T11:31:07.019324Z"
    },
    "pycharm": {
     "name": "#%%\n"
    }
   },
   "outputs": [
    {
     "data": {
      "text/plain": [
       "array([[2, 3],\n",
       "       [5, 7],\n",
       "       [8, 9]])"
      ]
     },
     "execution_count": 30,
     "metadata": {},
     "output_type": "execute_result"
    }
   ],
   "source": [
    "m= np.array([[2,3],[5,7],[8,9]])\n",
    "m"
   ]
  },
  {
   "cell_type": "markdown",
   "metadata": {},
   "source": [
    "##  Matris Çarpımı"
   ]
  },
  {
   "cell_type": "code",
   "execution_count": 31,
   "metadata": {
    "ExecuteTime": {
     "end_time": "2021-04-17T11:31:19.670402Z",
     "start_time": "2021-04-17T11:31:19.665320Z"
    },
    "pycharm": {
     "name": "#%%\n"
    }
   },
   "outputs": [
    {
     "data": {
      "text/plain": [
       "array([ 8, 19, 26])"
      ]
     },
     "execution_count": 31,
     "metadata": {},
     "output_type": "execute_result"
    }
   ],
   "source": [
    "m.dot(v)"
   ]
  },
  {
   "cell_type": "markdown",
   "metadata": {},
   "source": [
    "SpreadSheet Örnek"
   ]
  },
  {
   "cell_type": "code",
   "execution_count": 32,
   "metadata": {
    "ExecuteTime": {
     "end_time": "2021-04-17T11:31:35.055587Z",
     "start_time": "2021-04-17T11:31:35.049020Z"
    },
    "pycharm": {
     "name": "#%%\n"
    }
   },
   "outputs": [
    {
     "data": {
      "text/plain": [
       "array([[ 1,  9, 10,  5,  8],\n",
       "       [ 6,  7,  5,  7, 10],\n",
       "       [ 7,  5, 10,  3,  3],\n",
       "       [ 5,  9, 10,  6,  9],\n",
       "       [ 1,  7, 10, 10,  8],\n",
       "       [ 8, 10,  7,  6,  8],\n",
       "       [10,  5,  9,  4,  6],\n",
       "       [ 4,  9, 10,  7,  1],\n",
       "       [ 7,  4,  6,  8,  3]])"
      ]
     },
     "execution_count": 32,
     "metadata": {},
     "output_type": "execute_result"
    }
   ],
   "source": [
    "A= np.array([   [1,9,10,5,8],\n",
    "                [6,7,5,7,10],\n",
    "                [7,5,10,3,3],\n",
    "                [5,9,10,6,9],\n",
    "                [1,7,10,10,8],\n",
    "                [8,10,7,6,8],\n",
    "                [10,5,9,4,6],\n",
    "                [4,9,10,7,1],\n",
    "                [7,4,6,8,3]  ])\n",
    "A"
   ]
  },
  {
   "cell_type": "code",
   "execution_count": 33,
   "metadata": {
    "ExecuteTime": {
     "end_time": "2021-04-17T11:31:38.512238Z",
     "start_time": "2021-04-17T11:31:38.508598Z"
    },
    "pycharm": {
     "name": "#%%\n"
    }
   },
   "outputs": [
    {
     "data": {
      "text/plain": [
       "(9, 5)"
      ]
     },
     "execution_count": 33,
     "metadata": {},
     "output_type": "execute_result"
    }
   ],
   "source": [
    "A.shape"
   ]
  },
  {
   "cell_type": "code",
   "execution_count": 34,
   "metadata": {
    "ExecuteTime": {
     "end_time": "2021-04-17T11:31:41.620080Z",
     "start_time": "2021-04-17T11:31:41.615666Z"
    },
    "pycharm": {
     "name": "#%%\n"
    }
   },
   "outputs": [
    {
     "data": {
      "text/plain": [
       "array([[ 5,  9,  3,  1, 10,  8,  6,  6,  2],\n",
       "       [ 5,  8,  2,  5,  9,  5, 10,  8,  7],\n",
       "       [ 7,  8,  4,  9,  5,  5,  5,  7,  7],\n",
       "       [ 3,  3,  5,  2, 10,  7,  8,  9,  4],\n",
       "       [ 9,  9,  9,  4,  3,  9,  1,  4,  7]])"
      ]
     },
     "execution_count": 34,
     "metadata": {},
     "output_type": "execute_result"
    }
   ],
   "source": [
    "B=np.array([   [5,9,3,1,10,8,6,6,2],\n",
    "                [5,8,2,5,9,5,10,8,7],\n",
    "                [7,8,4,9,5,5,5,7,7],\n",
    "                [3,3,5,2,10,7,8,9,4],\n",
    "                [9,9,9,4,3,9,1,4,7],])\n",
    "B"
   ]
  },
  {
   "cell_type": "code",
   "execution_count": 35,
   "metadata": {
    "ExecuteTime": {
     "end_time": "2021-04-17T11:31:44.871432Z",
     "start_time": "2021-04-17T11:31:44.866932Z"
    },
    "pycharm": {
     "name": "#%%\n"
    }
   },
   "outputs": [
    {
     "data": {
      "text/plain": [
       "(5, 9)"
      ]
     },
     "execution_count": 35,
     "metadata": {},
     "output_type": "execute_result"
    }
   ],
   "source": [
    "B.shape"
   ]
  },
  {
   "cell_type": "code",
   "execution_count": 36,
   "metadata": {
    "ExecuteTime": {
     "end_time": "2021-04-17T11:31:50.678247Z",
     "start_time": "2021-04-17T11:31:50.673035Z"
    },
    "pycharm": {
     "name": "#%%\n"
    }
   },
   "outputs": [
    {
     "data": {
      "text/plain": [
       "array([[207, 248, 158, 178, 215, 210, 194, 225, 211],\n",
       "       [211, 261, 177, 140, 248, 247, 197, 230, 194],\n",
       "       [166, 219, 113, 140, 204, 179, 169, 191, 152],\n",
       "       [239, 296, 184, 188, 268, 258, 227, 262, 230],\n",
       "       [212, 247, 179, 178, 247, 235, 214, 254, 217],\n",
       "       [229, 298, 174, 165, 289, 263, 239, 263, 215],\n",
       "       [204, 268, 150, 148, 248, 232, 193, 223, 176],\n",
       "       [165, 218, 114, 157, 244, 185, 221, 233, 176],\n",
       "       [148, 194, 120, 109, 225, 189, 179, 200, 137]])"
      ]
     },
     "execution_count": 36,
     "metadata": {},
     "output_type": "execute_result"
    }
   ],
   "source": [
    "A.dot(B)"
   ]
  },
  {
   "cell_type": "markdown",
   "metadata": {},
   "source": [
    "Pandas"
   ]
  },
  {
   "cell_type": "code",
   "execution_count": 37,
   "metadata": {
    "ExecuteTime": {
     "end_time": "2021-04-17T11:32:03.687734Z",
     "start_time": "2021-04-17T11:32:03.676974Z"
    },
    "pycharm": {
     "name": "#%%\n"
    }
   },
   "outputs": [
    {
     "data": {
      "text/html": [
       "<div>\n",
       "<style scoped>\n",
       "    .dataframe tbody tr th:only-of-type {\n",
       "        vertical-align: middle;\n",
       "    }\n",
       "\n",
       "    .dataframe tbody tr th {\n",
       "        vertical-align: top;\n",
       "    }\n",
       "\n",
       "    .dataframe thead th {\n",
       "        text-align: right;\n",
       "    }\n",
       "</style>\n",
       "<table border=\"1\" class=\"dataframe\">\n",
       "  <thead>\n",
       "    <tr style=\"text-align: right;\">\n",
       "      <th></th>\n",
       "      <th>0</th>\n",
       "      <th>1</th>\n",
       "      <th>2</th>\n",
       "      <th>3</th>\n",
       "      <th>4</th>\n",
       "    </tr>\n",
       "  </thead>\n",
       "  <tbody>\n",
       "    <tr>\n",
       "      <th>0</th>\n",
       "      <td>1</td>\n",
       "      <td>9</td>\n",
       "      <td>10</td>\n",
       "      <td>5</td>\n",
       "      <td>8</td>\n",
       "    </tr>\n",
       "    <tr>\n",
       "      <th>1</th>\n",
       "      <td>6</td>\n",
       "      <td>7</td>\n",
       "      <td>5</td>\n",
       "      <td>7</td>\n",
       "      <td>10</td>\n",
       "    </tr>\n",
       "    <tr>\n",
       "      <th>2</th>\n",
       "      <td>7</td>\n",
       "      <td>5</td>\n",
       "      <td>10</td>\n",
       "      <td>3</td>\n",
       "      <td>3</td>\n",
       "    </tr>\n",
       "    <tr>\n",
       "      <th>3</th>\n",
       "      <td>5</td>\n",
       "      <td>9</td>\n",
       "      <td>10</td>\n",
       "      <td>6</td>\n",
       "      <td>9</td>\n",
       "    </tr>\n",
       "    <tr>\n",
       "      <th>4</th>\n",
       "      <td>1</td>\n",
       "      <td>7</td>\n",
       "      <td>10</td>\n",
       "      <td>10</td>\n",
       "      <td>8</td>\n",
       "    </tr>\n",
       "    <tr>\n",
       "      <th>5</th>\n",
       "      <td>8</td>\n",
       "      <td>10</td>\n",
       "      <td>7</td>\n",
       "      <td>6</td>\n",
       "      <td>8</td>\n",
       "    </tr>\n",
       "    <tr>\n",
       "      <th>6</th>\n",
       "      <td>10</td>\n",
       "      <td>5</td>\n",
       "      <td>9</td>\n",
       "      <td>4</td>\n",
       "      <td>6</td>\n",
       "    </tr>\n",
       "    <tr>\n",
       "      <th>7</th>\n",
       "      <td>4</td>\n",
       "      <td>9</td>\n",
       "      <td>10</td>\n",
       "      <td>7</td>\n",
       "      <td>1</td>\n",
       "    </tr>\n",
       "    <tr>\n",
       "      <th>8</th>\n",
       "      <td>7</td>\n",
       "      <td>4</td>\n",
       "      <td>6</td>\n",
       "      <td>8</td>\n",
       "      <td>3</td>\n",
       "    </tr>\n",
       "  </tbody>\n",
       "</table>\n",
       "</div>"
      ],
      "text/plain": [
       "    0   1   2   3   4\n",
       "0   1   9  10   5   8\n",
       "1   6   7   5   7  10\n",
       "2   7   5  10   3   3\n",
       "3   5   9  10   6   9\n",
       "4   1   7  10  10   8\n",
       "5   8  10   7   6   8\n",
       "6  10   5   9   4   6\n",
       "7   4   9  10   7   1\n",
       "8   7   4   6   8   3"
      ]
     },
     "execution_count": 37,
     "metadata": {},
     "output_type": "execute_result"
    }
   ],
   "source": [
    "A=pd.DataFrame(A)\n",
    "A"
   ]
  },
  {
   "cell_type": "code",
   "execution_count": 11,
   "metadata": {
    "ExecuteTime": {
     "end_time": "2021-04-16T21:16:40.227622Z",
     "start_time": "2021-04-16T21:16:40.221370Z"
    },
    "pycharm": {
     "name": "#%%\n"
    }
   },
   "outputs": [
    {
     "data": {
      "text/html": [
       "<div>\n",
       "<style scoped>\n",
       "    .dataframe tbody tr th:only-of-type {\n",
       "        vertical-align: middle;\n",
       "    }\n",
       "\n",
       "    .dataframe tbody tr th {\n",
       "        vertical-align: top;\n",
       "    }\n",
       "\n",
       "    .dataframe thead th {\n",
       "        text-align: right;\n",
       "    }\n",
       "</style>\n",
       "<table border=\"1\" class=\"dataframe\">\n",
       "  <thead>\n",
       "    <tr style=\"text-align: right;\">\n",
       "      <th></th>\n",
       "      <th>0</th>\n",
       "      <th>1</th>\n",
       "      <th>2</th>\n",
       "      <th>3</th>\n",
       "      <th>4</th>\n",
       "      <th>5</th>\n",
       "      <th>6</th>\n",
       "      <th>7</th>\n",
       "      <th>8</th>\n",
       "    </tr>\n",
       "  </thead>\n",
       "  <tbody>\n",
       "    <tr>\n",
       "      <th>0</th>\n",
       "      <td>5</td>\n",
       "      <td>9</td>\n",
       "      <td>3</td>\n",
       "      <td>1</td>\n",
       "      <td>10</td>\n",
       "      <td>8</td>\n",
       "      <td>6</td>\n",
       "      <td>6</td>\n",
       "      <td>2</td>\n",
       "    </tr>\n",
       "    <tr>\n",
       "      <th>1</th>\n",
       "      <td>5</td>\n",
       "      <td>8</td>\n",
       "      <td>2</td>\n",
       "      <td>5</td>\n",
       "      <td>9</td>\n",
       "      <td>5</td>\n",
       "      <td>10</td>\n",
       "      <td>8</td>\n",
       "      <td>7</td>\n",
       "    </tr>\n",
       "    <tr>\n",
       "      <th>2</th>\n",
       "      <td>7</td>\n",
       "      <td>8</td>\n",
       "      <td>4</td>\n",
       "      <td>9</td>\n",
       "      <td>5</td>\n",
       "      <td>5</td>\n",
       "      <td>5</td>\n",
       "      <td>7</td>\n",
       "      <td>7</td>\n",
       "    </tr>\n",
       "    <tr>\n",
       "      <th>3</th>\n",
       "      <td>3</td>\n",
       "      <td>3</td>\n",
       "      <td>5</td>\n",
       "      <td>2</td>\n",
       "      <td>10</td>\n",
       "      <td>7</td>\n",
       "      <td>8</td>\n",
       "      <td>9</td>\n",
       "      <td>4</td>\n",
       "    </tr>\n",
       "    <tr>\n",
       "      <th>4</th>\n",
       "      <td>9</td>\n",
       "      <td>9</td>\n",
       "      <td>9</td>\n",
       "      <td>4</td>\n",
       "      <td>3</td>\n",
       "      <td>9</td>\n",
       "      <td>1</td>\n",
       "      <td>4</td>\n",
       "      <td>7</td>\n",
       "    </tr>\n",
       "  </tbody>\n",
       "</table>\n",
       "</div>"
      ],
      "text/plain": [
       "   0  1  2  3   4  5   6  7  8\n",
       "0  5  9  3  1  10  8   6  6  2\n",
       "1  5  8  2  5   9  5  10  8  7\n",
       "2  7  8  4  9   5  5   5  7  7\n",
       "3  3  3  5  2  10  7   8  9  4\n",
       "4  9  9  9  4   3  9   1  4  7"
      ]
     },
     "execution_count": 11,
     "metadata": {},
     "output_type": "execute_result"
    }
   ],
   "source": [
    "B=pd.DataFrame(B)\n",
    "B"
   ]
  },
  {
   "cell_type": "code",
   "execution_count": 12,
   "metadata": {
    "ExecuteTime": {
     "end_time": "2021-04-16T21:16:40.238723Z",
     "start_time": "2021-04-16T21:16:40.228807Z"
    },
    "pycharm": {
     "name": "#%%\n"
    }
   },
   "outputs": [
    {
     "data": {
      "text/html": [
       "<div>\n",
       "<style scoped>\n",
       "    .dataframe tbody tr th:only-of-type {\n",
       "        vertical-align: middle;\n",
       "    }\n",
       "\n",
       "    .dataframe tbody tr th {\n",
       "        vertical-align: top;\n",
       "    }\n",
       "\n",
       "    .dataframe thead th {\n",
       "        text-align: right;\n",
       "    }\n",
       "</style>\n",
       "<table border=\"1\" class=\"dataframe\">\n",
       "  <thead>\n",
       "    <tr style=\"text-align: right;\">\n",
       "      <th></th>\n",
       "      <th>0</th>\n",
       "      <th>1</th>\n",
       "      <th>2</th>\n",
       "      <th>3</th>\n",
       "      <th>4</th>\n",
       "      <th>5</th>\n",
       "      <th>6</th>\n",
       "      <th>7</th>\n",
       "      <th>8</th>\n",
       "    </tr>\n",
       "  </thead>\n",
       "  <tbody>\n",
       "    <tr>\n",
       "      <th>0</th>\n",
       "      <td>207</td>\n",
       "      <td>248</td>\n",
       "      <td>158</td>\n",
       "      <td>178</td>\n",
       "      <td>215</td>\n",
       "      <td>210</td>\n",
       "      <td>194</td>\n",
       "      <td>225</td>\n",
       "      <td>211</td>\n",
       "    </tr>\n",
       "    <tr>\n",
       "      <th>1</th>\n",
       "      <td>211</td>\n",
       "      <td>261</td>\n",
       "      <td>177</td>\n",
       "      <td>140</td>\n",
       "      <td>248</td>\n",
       "      <td>247</td>\n",
       "      <td>197</td>\n",
       "      <td>230</td>\n",
       "      <td>194</td>\n",
       "    </tr>\n",
       "    <tr>\n",
       "      <th>2</th>\n",
       "      <td>166</td>\n",
       "      <td>219</td>\n",
       "      <td>113</td>\n",
       "      <td>140</td>\n",
       "      <td>204</td>\n",
       "      <td>179</td>\n",
       "      <td>169</td>\n",
       "      <td>191</td>\n",
       "      <td>152</td>\n",
       "    </tr>\n",
       "    <tr>\n",
       "      <th>3</th>\n",
       "      <td>239</td>\n",
       "      <td>296</td>\n",
       "      <td>184</td>\n",
       "      <td>188</td>\n",
       "      <td>268</td>\n",
       "      <td>258</td>\n",
       "      <td>227</td>\n",
       "      <td>262</td>\n",
       "      <td>230</td>\n",
       "    </tr>\n",
       "    <tr>\n",
       "      <th>4</th>\n",
       "      <td>212</td>\n",
       "      <td>247</td>\n",
       "      <td>179</td>\n",
       "      <td>178</td>\n",
       "      <td>247</td>\n",
       "      <td>235</td>\n",
       "      <td>214</td>\n",
       "      <td>254</td>\n",
       "      <td>217</td>\n",
       "    </tr>\n",
       "    <tr>\n",
       "      <th>5</th>\n",
       "      <td>229</td>\n",
       "      <td>298</td>\n",
       "      <td>174</td>\n",
       "      <td>165</td>\n",
       "      <td>289</td>\n",
       "      <td>263</td>\n",
       "      <td>239</td>\n",
       "      <td>263</td>\n",
       "      <td>215</td>\n",
       "    </tr>\n",
       "    <tr>\n",
       "      <th>6</th>\n",
       "      <td>204</td>\n",
       "      <td>268</td>\n",
       "      <td>150</td>\n",
       "      <td>148</td>\n",
       "      <td>248</td>\n",
       "      <td>232</td>\n",
       "      <td>193</td>\n",
       "      <td>223</td>\n",
       "      <td>176</td>\n",
       "    </tr>\n",
       "    <tr>\n",
       "      <th>7</th>\n",
       "      <td>165</td>\n",
       "      <td>218</td>\n",
       "      <td>114</td>\n",
       "      <td>157</td>\n",
       "      <td>244</td>\n",
       "      <td>185</td>\n",
       "      <td>221</td>\n",
       "      <td>233</td>\n",
       "      <td>176</td>\n",
       "    </tr>\n",
       "    <tr>\n",
       "      <th>8</th>\n",
       "      <td>148</td>\n",
       "      <td>194</td>\n",
       "      <td>120</td>\n",
       "      <td>109</td>\n",
       "      <td>225</td>\n",
       "      <td>189</td>\n",
       "      <td>179</td>\n",
       "      <td>200</td>\n",
       "      <td>137</td>\n",
       "    </tr>\n",
       "  </tbody>\n",
       "</table>\n",
       "</div>"
      ],
      "text/plain": [
       "     0    1    2    3    4    5    6    7    8\n",
       "0  207  248  158  178  215  210  194  225  211\n",
       "1  211  261  177  140  248  247  197  230  194\n",
       "2  166  219  113  140  204  179  169  191  152\n",
       "3  239  296  184  188  268  258  227  262  230\n",
       "4  212  247  179  178  247  235  214  254  217\n",
       "5  229  298  174  165  289  263  239  263  215\n",
       "6  204  268  150  148  248  232  193  223  176\n",
       "7  165  218  114  157  244  185  221  233  176\n",
       "8  148  194  120  109  225  189  179  200  137"
      ]
     },
     "execution_count": 12,
     "metadata": {},
     "output_type": "execute_result"
    }
   ],
   "source": [
    "A.dot(B)"
   ]
  },
  {
   "cell_type": "markdown",
   "metadata": {},
   "source": [
    "## Doğrusal Denklem"
   ]
  },
  {
   "cell_type": "code",
   "execution_count": 41,
   "metadata": {
    "ExecuteTime": {
     "end_time": "2021-04-17T11:41:04.984266Z",
     "start_time": "2021-04-17T11:41:04.967997Z"
    },
    "pycharm": {
     "name": "#%%\n"
    }
   },
   "outputs": [],
   "source": [
    "\n",
    "class DoğrusalDenklem():\n",
    "\n",
    "    def __init__(self,A,b):\n",
    "        self.denklem=np.concatenate((A,b),axis=1)\n",
    "        self.satır_sayısı=self.denklem.shape[0]\n",
    "        self.sütün_sayısı=self.denklem.shape[1]\n",
    "\n",
    "    def __str__(self):\n",
    "        return \"Denklem sistemi ----> \\n {Ab}\".format(Ab=self.denklem)\n",
    "\n",
    "    def __len__(self):\n",
    "        return self.denklem.shape[0]\n",
    "\n",
    "    def __del__(self):\n",
    "        return  \"Doğrusal denklem silinmiştir.\"\n",
    "\n",
    "    def GaussJordan(self):\n",
    "        \"\"\"\n",
    "        Gauss Jordan metodu ile satır işlemleri yapıp, değişkenleri\n",
    "        hesaplar.Öncelikle katsayı matrisi ile sonuç matrisi birleştirilir.\n",
    "        İlk olarak köşegen elemanın 0'a eşitliği kontrol edilir.\n",
    "        Daha sonrasında ona ait sütündaki diğer elemanlar 0 olacak\n",
    "        şekilde satır işlemleri yapılır. Bütün satırların üzerinden\n",
    "        bu yöntemle geçilir.\n",
    "\n",
    "        \"\"\"\n",
    "\n",
    "        # Adım 1 : A|b matrisini oluştur.\n",
    "\n",
    "        Ab=self.denklem.copy()\n",
    "        Ab=Ab.astype(float)\n",
    "        satır_sayısı=Ab.shape[0]\n",
    "        sutun_sayısı=Ab.shape[1]\n",
    "\n",
    "        for i in range(satır_sayısı): # Bütün satırlar için yapılacaktır.\n",
    "            if Ab[i][i]==0:  # Satırdaki köşegen eleman 0 ise onu değiştirmek gereklidir.\n",
    "                Geçici=Ab[i].copy()\n",
    "                satır_indisleri=[a for a in range(i,satır_sayısı) if Ab[a][i]!=0]\n",
    "                if satır_indisleri:\n",
    "                    Ab[i]=Ab[satır_indisleri[0]].copy()\n",
    "                    Ab[satır_indisleri[0]]=Geçici\n",
    "                else:\n",
    "                    print(str(i)+\". satırından sonra işlem yapılamamaktadır\")\n",
    "                    return Ab\n",
    "            Ab[i]=Ab[i]/Ab[i][i] # Köşegen katsayısına bölüyoruz.\n",
    "            for s in range(satır_sayısı):\n",
    "                if i==s:\n",
    "                    pass\n",
    "                else:\n",
    "                    Ab[s]=Ab[s]-Ab[i]*Ab[s][i] # Bir satırı diğerinden çıkartarak köşegen alt kısımlarını sıfıra eşitliyoruz.\n",
    "\n",
    "        return Ab\n",
    "\n",
    "    def çözüm_durumu(self):\n",
    "        çözüm=self.GaussJordan()\n",
    "        satır_sayısı=self.satır_sayısı\n",
    "        sutun_sayısı= self.sütün_sayısı\n",
    "        tekÇözüm=False\n",
    "\n",
    "        for i in range(satır_sayısı):\n",
    "            if all(çözüm[i,:sutun_sayısı-1]==0) and çözüm[i,sutun_sayısı-1]!=0:\n",
    "                return \"çözümsüz\"\n",
    "\n",
    "        if satır_sayısı==(sutun_sayısı-1):\n",
    "            i=0\n",
    "            while i<satır_sayısı and çözüm[i][i]==1:\n",
    "                i+=1\n",
    "\n",
    "            if i==satır_sayısı:\n",
    "                tekÇözüm=True\n",
    "                return \"tek\"\n",
    "        else:\n",
    "            return \"sonsuz\"\n",
    "\n",
    "    def rank_sayar(self):\n",
    "        Ab=self.GaussJordan()\n",
    "        say=0\n",
    "        satır_sayısı=Ab.shape[0]\n",
    "        for i in range(satır_sayısı):\n",
    "               if Ab[i][i]==1 and Ab[:,i].sum()==1:\n",
    "                    say+=1\n",
    "        return say\n",
    "\n",
    "    def doğrusal_bağımsız(self):\n",
    "        Ab=self.GaussJordan()\n",
    "        rank=self.rank_sayar()\n",
    "        m=Ab.shape[0]\n",
    "        if m==rank:\n",
    "            return True\n",
    "        elif m>rank:\n",
    "            return False\n",
    "        else:\n",
    "            return \"Error\""
   ]
  },
  {
   "cell_type": "code",
   "execution_count": 39,
   "metadata": {
    "ExecuteTime": {
     "end_time": "2021-04-17T11:41:01.354274Z",
     "start_time": "2021-04-17T11:41:01.344053Z"
    },
    "pycharm": {
     "name": "#%%\n"
    }
   },
   "outputs": [
    {
     "data": {
      "text/html": [
       "<div>\n",
       "<style scoped>\n",
       "    .dataframe tbody tr th:only-of-type {\n",
       "        vertical-align: middle;\n",
       "    }\n",
       "\n",
       "    .dataframe tbody tr th {\n",
       "        vertical-align: top;\n",
       "    }\n",
       "\n",
       "    .dataframe thead th {\n",
       "        text-align: right;\n",
       "    }\n",
       "</style>\n",
       "<table border=\"1\" class=\"dataframe\">\n",
       "  <thead>\n",
       "    <tr style=\"text-align: right;\">\n",
       "      <th></th>\n",
       "      <th>0</th>\n",
       "      <th>1</th>\n",
       "      <th>2</th>\n",
       "    </tr>\n",
       "  </thead>\n",
       "  <tbody>\n",
       "    <tr>\n",
       "      <th>0</th>\n",
       "      <td>0.0</td>\n",
       "      <td>2.0</td>\n",
       "      <td>2.0</td>\n",
       "    </tr>\n",
       "    <tr>\n",
       "      <th>1</th>\n",
       "      <td>1.0</td>\n",
       "      <td>2.0</td>\n",
       "      <td>1.0</td>\n",
       "    </tr>\n",
       "    <tr>\n",
       "      <th>2</th>\n",
       "      <td>0.0</td>\n",
       "      <td>1.0</td>\n",
       "      <td>-1.0</td>\n",
       "    </tr>\n",
       "  </tbody>\n",
       "</table>\n",
       "</div>"
      ],
      "text/plain": [
       "     0    1    2\n",
       "0  0.0  2.0  2.0\n",
       "1  1.0  2.0  1.0\n",
       "2  0.0  1.0 -1.0"
      ]
     },
     "execution_count": 39,
     "metadata": {},
     "output_type": "execute_result"
    }
   ],
   "source": [
    "\n",
    "# 1\n",
    "A=np.array([[0,2,2 ],[1,2,1 ],[0,1,-1 ]],float)\n",
    "df_A=pd.DataFrame(A);df_A"
   ]
  },
  {
   "cell_type": "code",
   "execution_count": 40,
   "metadata": {
    "ExecuteTime": {
     "end_time": "2021-04-17T11:41:02.207788Z",
     "start_time": "2021-04-17T11:41:02.202075Z"
    },
    "pycharm": {
     "name": "#%%\n"
    }
   },
   "outputs": [
    {
     "data": {
      "text/html": [
       "<div>\n",
       "<style scoped>\n",
       "    .dataframe tbody tr th:only-of-type {\n",
       "        vertical-align: middle;\n",
       "    }\n",
       "\n",
       "    .dataframe tbody tr th {\n",
       "        vertical-align: top;\n",
       "    }\n",
       "\n",
       "    .dataframe thead th {\n",
       "        text-align: right;\n",
       "    }\n",
       "</style>\n",
       "<table border=\"1\" class=\"dataframe\">\n",
       "  <thead>\n",
       "    <tr style=\"text-align: right;\">\n",
       "      <th></th>\n",
       "      <th>0</th>\n",
       "    </tr>\n",
       "  </thead>\n",
       "  <tbody>\n",
       "    <tr>\n",
       "      <th>0</th>\n",
       "      <td>4.0</td>\n",
       "    </tr>\n",
       "    <tr>\n",
       "      <th>1</th>\n",
       "      <td>4.0</td>\n",
       "    </tr>\n",
       "    <tr>\n",
       "      <th>2</th>\n",
       "      <td>0.0</td>\n",
       "    </tr>\n",
       "  </tbody>\n",
       "</table>\n",
       "</div>"
      ],
      "text/plain": [
       "     0\n",
       "0  4.0\n",
       "1  4.0\n",
       "2  0.0"
      ]
     },
     "execution_count": 40,
     "metadata": {},
     "output_type": "execute_result"
    }
   ],
   "source": [
    "b=np.array([[4],[4],[0]],float)\n",
    "df_b=pd.DataFrame(b);df_b"
   ]
  },
  {
   "cell_type": "code",
   "execution_count": 42,
   "metadata": {
    "ExecuteTime": {
     "end_time": "2021-04-17T11:41:11.159406Z",
     "start_time": "2021-04-17T11:41:11.156869Z"
    },
    "pycharm": {
     "name": "#%%\n"
    }
   },
   "outputs": [],
   "source": [
    "denklem=DoğrusalDenklem(A,b)\n"
   ]
  },
  {
   "cell_type": "code",
   "execution_count": 44,
   "metadata": {
    "ExecuteTime": {
     "end_time": "2021-04-17T11:41:27.268661Z",
     "start_time": "2021-04-17T11:41:27.264565Z"
    }
   },
   "outputs": [
    {
     "name": "stdout",
     "output_type": "stream",
     "text": [
      "Denklem sistemi ----> \n",
      " [[ 0.  2.  2.  4.]\n",
      " [ 1.  2.  1.  4.]\n",
      " [ 0.  1. -1.  0.]]\n"
     ]
    }
   ],
   "source": [
    "print(denklem)"
   ]
  },
  {
   "cell_type": "code",
   "execution_count": 45,
   "metadata": {
    "ExecuteTime": {
     "end_time": "2021-04-17T11:41:35.504353Z",
     "start_time": "2021-04-17T11:41:35.499526Z"
    }
   },
   "outputs": [
    {
     "data": {
      "text/plain": [
       "array([[ 1.,  0.,  0.,  1.],\n",
       "       [ 0.,  1.,  0.,  1.],\n",
       "       [-0., -0.,  1.,  1.]])"
      ]
     },
     "execution_count": 45,
     "metadata": {},
     "output_type": "execute_result"
    }
   ],
   "source": [
    "denklem.GaussJordan()"
   ]
  },
  {
   "cell_type": "code",
   "execution_count": 17,
   "metadata": {
    "ExecuteTime": {
     "end_time": "2021-04-16T21:16:40.285784Z",
     "start_time": "2021-04-16T21:16:40.282404Z"
    },
    "pycharm": {
     "name": "#%%\n"
    }
   },
   "outputs": [
    {
     "data": {
      "text/plain": [
       "'tek'"
      ]
     },
     "execution_count": 17,
     "metadata": {},
     "output_type": "execute_result"
    }
   ],
   "source": [
    "denklem.çözüm_durumu()"
   ]
  },
  {
   "cell_type": "code",
   "execution_count": 46,
   "metadata": {
    "ExecuteTime": {
     "end_time": "2021-04-17T11:42:08.308557Z",
     "start_time": "2021-04-17T11:42:08.302676Z"
    },
    "pycharm": {
     "name": "#%%\n"
    }
   },
   "outputs": [
    {
     "data": {
      "text/plain": [
       "array([[ 0.,  0.,  0.,  0.,  1.],\n",
       "       [ 0.,  0.,  1., -1.,  0.],\n",
       "       [ 1.,  0.,  0.,  0.,  1.],\n",
       "       [ 0.,  7., -8.,  0.,  0.],\n",
       "       [ 2.,  0.,  0.,  0.,  0.]])"
      ]
     },
     "execution_count": 46,
     "metadata": {},
     "output_type": "execute_result"
    }
   ],
   "source": [
    "# 2\n",
    "A=np.array([[0,0,0,0,1],\n",
    "            [0,0,1,-1,0],\n",
    "            [1,0,0,0,1],\n",
    "            [0,7,-8,0,0],\n",
    "            [2,0,0,0,0]],float)\n",
    "A"
   ]
  },
  {
   "cell_type": "code",
   "execution_count": 47,
   "metadata": {
    "ExecuteTime": {
     "end_time": "2021-04-17T11:42:16.703071Z",
     "start_time": "2021-04-17T11:42:16.697825Z"
    },
    "pycharm": {
     "name": "#%%\n"
    }
   },
   "outputs": [
    {
     "name": "stdout",
     "output_type": "stream",
     "text": [
      "3. satırından sonra işlem yapılamamaktadır\n"
     ]
    },
    {
     "data": {
      "text/plain": [
       "array([[ 1.        ,  0.        ,  0.        ,  0.        ,  1.        ,\n",
       "         3.        ],\n",
       "       [ 0.        ,  1.        ,  0.        , -1.14285714,  0.        ,\n",
       "         1.42857143],\n",
       "       [ 0.        ,  0.        ,  1.        , -1.        ,  0.        ,\n",
       "         3.        ],\n",
       "       [ 0.        ,  0.        ,  0.        ,  0.        ,  1.        ,\n",
       "        -4.        ],\n",
       "       [ 0.        ,  0.        ,  0.        ,  0.        , -2.        ,\n",
       "        -4.        ]])"
      ]
     },
     "execution_count": 47,
     "metadata": {},
     "output_type": "execute_result"
    }
   ],
   "source": [
    "b=np.array([[-4 ],[ 3 ],[ 3 ],[-14 ],[2]],float)\n",
    "\n",
    "denklem=DoğrusalDenklem(A,b)\n",
    "denklem.GaussJordan()\n"
   ]
  },
  {
   "cell_type": "code",
   "execution_count": 20,
   "metadata": {
    "ExecuteTime": {
     "end_time": "2021-04-16T21:16:40.306135Z",
     "start_time": "2021-04-16T21:16:40.302159Z"
    },
    "pycharm": {
     "name": "#%%\n"
    }
   },
   "outputs": [
    {
     "name": "stdout",
     "output_type": "stream",
     "text": [
      "3. satırından sonra işlem yapılamamaktadır\n"
     ]
    }
   ],
   "source": [
    "denklem.çözüm_durumu()"
   ]
  },
  {
   "cell_type": "code",
   "execution_count": 48,
   "metadata": {
    "ExecuteTime": {
     "end_time": "2021-04-17T11:42:57.237508Z",
     "start_time": "2021-04-17T11:42:57.232125Z"
    },
    "pycharm": {
     "name": "#%%\n"
    }
   },
   "outputs": [
    {
     "data": {
      "text/plain": [
       "array([[1., 0., 0., 1.],\n",
       "       [0., 1., 0., 1.],\n",
       "       [0., 0., 1., 2.]])"
      ]
     },
     "execution_count": 48,
     "metadata": {},
     "output_type": "execute_result"
    }
   ],
   "source": [
    "A=np.array([[1,1,0 ],[0,-1,2 ],[0,1,1 ]],float)\n",
    "b=np.array([[2],[3],[3]],float)\n",
    "denklem=DoğrusalDenklem(A,b)\n",
    "denklem.GaussJordan()"
   ]
  },
  {
   "cell_type": "code",
   "execution_count": 22,
   "metadata": {
    "ExecuteTime": {
     "end_time": "2021-04-16T21:16:40.317539Z",
     "start_time": "2021-04-16T21:16:40.314011Z"
    },
    "pycharm": {
     "name": "#%%\n"
    }
   },
   "outputs": [
    {
     "data": {
      "text/plain": [
       "'tek'"
      ]
     },
     "execution_count": 22,
     "metadata": {},
     "output_type": "execute_result"
    }
   ],
   "source": [
    "denklem.çözüm_durumu()\n"
   ]
  },
  {
   "cell_type": "code",
   "execution_count": 49,
   "metadata": {
    "ExecuteTime": {
     "end_time": "2021-04-17T11:43:26.403990Z",
     "start_time": "2021-04-17T11:43:26.399441Z"
    }
   },
   "outputs": [
    {
     "data": {
      "text/plain": [
       "array([[1.],\n",
       "       [1.],\n",
       "       [2.]])"
      ]
     },
     "execution_count": 49,
     "metadata": {},
     "output_type": "execute_result"
    }
   ],
   "source": [
    "np.linalg.solve(A,b)"
   ]
  },
  {
   "cell_type": "code",
   "execution_count": 23,
   "metadata": {
    "ExecuteTime": {
     "end_time": "2021-04-16T21:16:40.324203Z",
     "start_time": "2021-04-16T21:16:40.320936Z"
    },
    "pycharm": {
     "name": "#%%\n"
    }
   },
   "outputs": [
    {
     "data": {
      "text/plain": [
       "array([[1.],\n",
       "       [1.],\n",
       "       [2.]])"
      ]
     },
     "execution_count": 23,
     "metadata": {},
     "output_type": "execute_result"
    }
   ],
   "source": [
    "np.linalg.solve(A,b)"
   ]
  },
  {
   "cell_type": "code",
   "execution_count": 24,
   "metadata": {
    "ExecuteTime": {
     "end_time": "2021-04-16T21:16:40.328946Z",
     "start_time": "2021-04-16T21:16:40.325667Z"
    },
    "pycharm": {
     "name": "#%%\n"
    }
   },
   "outputs": [
    {
     "data": {
      "text/plain": [
       "array([[1.],\n",
       "       [1.],\n",
       "       [2.]])"
      ]
     },
     "execution_count": 24,
     "metadata": {},
     "output_type": "execute_result"
    }
   ],
   "source": [
    "np.linalg.inv(A).dot(b)\n"
   ]
  }
 ],
 "metadata": {
  "kernelspec": {
   "display_name": "Python 3",
   "language": "python",
   "name": "python3"
  },
  "language_info": {
   "codemirror_mode": {
    "name": "ipython",
    "version": 3
   },
   "file_extension": ".py",
   "mimetype": "text/x-python",
   "name": "python",
   "nbconvert_exporter": "python",
   "pygments_lexer": "ipython3",
   "version": "3.8.5"
  },
  "toc": {
   "base_numbering": 1,
   "nav_menu": {},
   "number_sections": true,
   "sideBar": true,
   "skip_h1_title": false,
   "title_cell": "Table of Contents",
   "title_sidebar": "Contents",
   "toc_cell": true,
   "toc_position": {
    "height": "calc(100% - 180px)",
    "left": "10px",
    "top": "150px",
    "width": "258.097px"
   },
   "toc_section_display": true,
   "toc_window_display": false
  },
  "varInspector": {
   "cols": {
    "lenName": 16,
    "lenType": 16,
    "lenVar": 40
   },
   "kernels_config": {
    "python": {
     "delete_cmd_postfix": "",
     "delete_cmd_prefix": "del ",
     "library": "var_list.py",
     "varRefreshCmd": "print(var_dic_list())"
    },
    "r": {
     "delete_cmd_postfix": ") ",
     "delete_cmd_prefix": "rm(",
     "library": "var_list.r",
     "varRefreshCmd": "cat(var_dic_list()) "
    }
   },
   "types_to_exclude": [
    "module",
    "function",
    "builtin_function_or_method",
    "instance",
    "_Feature"
   ],
   "window_display": false
  }
 },
 "nbformat": 4,
 "nbformat_minor": 1
}
