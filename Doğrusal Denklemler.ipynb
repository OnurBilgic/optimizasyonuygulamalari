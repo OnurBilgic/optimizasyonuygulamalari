{
 "cells": [
  {
   "cell_type": "code",
   "execution_count": 45,
   "metadata": {
    "collapsed": true
   },
   "outputs": [],
   "source": [
    "import pandas as pd\n",
    "import numpy as np"
   ]
  },
  {
   "cell_type": "markdown",
   "source": [
    "Vektör"
   ],
   "metadata": {
    "collapsed": false
   }
  },
  {
   "cell_type": "code",
   "execution_count": 46,
   "outputs": [
    {
     "data": {
      "text/plain": "array([1, 2])"
     },
     "execution_count": 46,
     "metadata": {},
     "output_type": "execute_result"
    }
   ],
   "source": [
    "v=np.array([1,2])\n",
    "v"
   ],
   "metadata": {
    "collapsed": false,
    "pycharm": {
     "name": "#%%\n"
    }
   }
  },
  {
   "cell_type": "markdown",
   "source": [
    "\n",
    "Matris"
   ],
   "metadata": {
    "collapsed": false,
    "pycharm": {
     "name": "#%% md\n"
    }
   }
  },
  {
   "cell_type": "code",
   "execution_count": 47,
   "outputs": [
    {
     "data": {
      "text/plain": "array([[2, 3],\n       [5, 7],\n       [8, 9]])"
     },
     "execution_count": 47,
     "metadata": {},
     "output_type": "execute_result"
    }
   ],
   "source": [
    "m= np.array([[2,3],[5,7],[8,9]])\n",
    "m"
   ],
   "metadata": {
    "collapsed": false,
    "pycharm": {
     "name": "#%%\n"
    }
   }
  },
  {
   "cell_type": "markdown",
   "source": [
    "Matris Çarpımı"
   ],
   "metadata": {
    "collapsed": false
   }
  },
  {
   "cell_type": "code",
   "execution_count": 48,
   "outputs": [
    {
     "data": {
      "text/plain": "array([ 8, 19, 26])"
     },
     "execution_count": 48,
     "metadata": {},
     "output_type": "execute_result"
    }
   ],
   "source": [
    "m.dot(v)"
   ],
   "metadata": {
    "collapsed": false,
    "pycharm": {
     "name": "#%%\n"
    }
   }
  },
  {
   "cell_type": "markdown",
   "source": [
    "SpreadSheet Örnek"
   ],
   "metadata": {
    "collapsed": false
   }
  },
  {
   "cell_type": "code",
   "execution_count": 49,
   "outputs": [
    {
     "data": {
      "text/plain": "array([[ 1,  9, 10,  5,  8],\n       [ 6,  7,  5,  7, 10],\n       [ 7,  5, 10,  3,  3],\n       [ 5,  9, 10,  6,  9],\n       [ 1,  7, 10, 10,  8],\n       [ 8, 10,  7,  6,  8],\n       [10,  5,  9,  4,  6],\n       [ 4,  9, 10,  7,  1],\n       [ 7,  4,  6,  8,  3]])"
     },
     "execution_count": 49,
     "metadata": {},
     "output_type": "execute_result"
    }
   ],
   "source": [
    "A= np.array([   [1,9,10,5,8],\n",
    "                [6,7,5,7,10],\n",
    "                [7,5,10,3,3],\n",
    "                [5,9,10,6,9],\n",
    "                [1,7,10,10,8],\n",
    "                [8,10,7,6,8],\n",
    "                [10,5,9,4,6],\n",
    "                [4,9,10,7,1],\n",
    "                [7,4,6,8,3]  ])\n",
    "A"
   ],
   "metadata": {
    "collapsed": false,
    "pycharm": {
     "name": "#%%\n"
    }
   }
  },
  {
   "cell_type": "code",
   "execution_count": 50,
   "outputs": [
    {
     "data": {
      "text/plain": "(9, 5)"
     },
     "execution_count": 50,
     "metadata": {},
     "output_type": "execute_result"
    }
   ],
   "source": [
    "A.shape"
   ],
   "metadata": {
    "collapsed": false,
    "pycharm": {
     "name": "#%%\n"
    }
   }
  },
  {
   "cell_type": "code",
   "execution_count": 51,
   "outputs": [
    {
     "data": {
      "text/plain": "array([[ 5,  9,  3,  1, 10,  8,  6,  6,  2],\n       [ 5,  8,  2,  5,  9,  5, 10,  8,  7],\n       [ 7,  8,  4,  9,  5,  5,  5,  7,  7],\n       [ 3,  3,  5,  2, 10,  7,  8,  9,  4],\n       [ 9,  9,  9,  4,  3,  9,  1,  4,  7]])"
     },
     "execution_count": 51,
     "metadata": {},
     "output_type": "execute_result"
    }
   ],
   "source": [
    "B=np.array([   [5,9,3,1,10,8,6,6,2],\n",
    "                [5,8,2,5,9,5,10,8,7],\n",
    "                [7,8,4,9,5,5,5,7,7],\n",
    "                [3,3,5,2,10,7,8,9,4],\n",
    "                [9,9,9,4,3,9,1,4,7],])\n",
    "B"
   ],
   "metadata": {
    "collapsed": false,
    "pycharm": {
     "name": "#%%\n"
    }
   }
  },
  {
   "cell_type": "code",
   "execution_count": 52,
   "outputs": [
    {
     "data": {
      "text/plain": "(5, 9)"
     },
     "execution_count": 52,
     "metadata": {},
     "output_type": "execute_result"
    }
   ],
   "source": [
    "B.shape"
   ],
   "metadata": {
    "collapsed": false,
    "pycharm": {
     "name": "#%%\n"
    }
   }
  },
  {
   "cell_type": "code",
   "execution_count": 53,
   "outputs": [
    {
     "data": {
      "text/plain": "array([[207, 248, 158, 178, 215, 210, 194, 225, 211],\n       [211, 261, 177, 140, 248, 247, 197, 230, 194],\n       [166, 219, 113, 140, 204, 179, 169, 191, 152],\n       [239, 296, 184, 188, 268, 258, 227, 262, 230],\n       [212, 247, 179, 178, 247, 235, 214, 254, 217],\n       [229, 298, 174, 165, 289, 263, 239, 263, 215],\n       [204, 268, 150, 148, 248, 232, 193, 223, 176],\n       [165, 218, 114, 157, 244, 185, 221, 233, 176],\n       [148, 194, 120, 109, 225, 189, 179, 200, 137]])"
     },
     "execution_count": 53,
     "metadata": {},
     "output_type": "execute_result"
    }
   ],
   "source": [
    "A.dot(B)"
   ],
   "metadata": {
    "collapsed": false,
    "pycharm": {
     "name": "#%%\n"
    }
   }
  },
  {
   "cell_type": "markdown",
   "source": [
    "Pandas"
   ],
   "metadata": {
    "collapsed": false
   }
  },
  {
   "cell_type": "code",
   "execution_count": 54,
   "outputs": [
    {
     "data": {
      "text/plain": "    0   1   2   3   4\n0   1   9  10   5   8\n1   6   7   5   7  10\n2   7   5  10   3   3\n3   5   9  10   6   9\n4   1   7  10  10   8\n5   8  10   7   6   8\n6  10   5   9   4   6\n7   4   9  10   7   1\n8   7   4   6   8   3",
      "text/html": "<div>\n<style scoped>\n    .dataframe tbody tr th:only-of-type {\n        vertical-align: middle;\n    }\n\n    .dataframe tbody tr th {\n        vertical-align: top;\n    }\n\n    .dataframe thead th {\n        text-align: right;\n    }\n</style>\n<table border=\"1\" class=\"dataframe\">\n  <thead>\n    <tr style=\"text-align: right;\">\n      <th></th>\n      <th>0</th>\n      <th>1</th>\n      <th>2</th>\n      <th>3</th>\n      <th>4</th>\n    </tr>\n  </thead>\n  <tbody>\n    <tr>\n      <th>0</th>\n      <td>1</td>\n      <td>9</td>\n      <td>10</td>\n      <td>5</td>\n      <td>8</td>\n    </tr>\n    <tr>\n      <th>1</th>\n      <td>6</td>\n      <td>7</td>\n      <td>5</td>\n      <td>7</td>\n      <td>10</td>\n    </tr>\n    <tr>\n      <th>2</th>\n      <td>7</td>\n      <td>5</td>\n      <td>10</td>\n      <td>3</td>\n      <td>3</td>\n    </tr>\n    <tr>\n      <th>3</th>\n      <td>5</td>\n      <td>9</td>\n      <td>10</td>\n      <td>6</td>\n      <td>9</td>\n    </tr>\n    <tr>\n      <th>4</th>\n      <td>1</td>\n      <td>7</td>\n      <td>10</td>\n      <td>10</td>\n      <td>8</td>\n    </tr>\n    <tr>\n      <th>5</th>\n      <td>8</td>\n      <td>10</td>\n      <td>7</td>\n      <td>6</td>\n      <td>8</td>\n    </tr>\n    <tr>\n      <th>6</th>\n      <td>10</td>\n      <td>5</td>\n      <td>9</td>\n      <td>4</td>\n      <td>6</td>\n    </tr>\n    <tr>\n      <th>7</th>\n      <td>4</td>\n      <td>9</td>\n      <td>10</td>\n      <td>7</td>\n      <td>1</td>\n    </tr>\n    <tr>\n      <th>8</th>\n      <td>7</td>\n      <td>4</td>\n      <td>6</td>\n      <td>8</td>\n      <td>3</td>\n    </tr>\n  </tbody>\n</table>\n</div>"
     },
     "execution_count": 54,
     "metadata": {},
     "output_type": "execute_result"
    }
   ],
   "source": [
    "A=pd.DataFrame(A)\n",
    "A"
   ],
   "metadata": {
    "collapsed": false,
    "pycharm": {
     "name": "#%%\n"
    }
   }
  },
  {
   "cell_type": "code",
   "execution_count": 55,
   "outputs": [
    {
     "data": {
      "text/plain": "   0  1  2  3   4  5   6  7  8\n0  5  9  3  1  10  8   6  6  2\n1  5  8  2  5   9  5  10  8  7\n2  7  8  4  9   5  5   5  7  7\n3  3  3  5  2  10  7   8  9  4\n4  9  9  9  4   3  9   1  4  7",
      "text/html": "<div>\n<style scoped>\n    .dataframe tbody tr th:only-of-type {\n        vertical-align: middle;\n    }\n\n    .dataframe tbody tr th {\n        vertical-align: top;\n    }\n\n    .dataframe thead th {\n        text-align: right;\n    }\n</style>\n<table border=\"1\" class=\"dataframe\">\n  <thead>\n    <tr style=\"text-align: right;\">\n      <th></th>\n      <th>0</th>\n      <th>1</th>\n      <th>2</th>\n      <th>3</th>\n      <th>4</th>\n      <th>5</th>\n      <th>6</th>\n      <th>7</th>\n      <th>8</th>\n    </tr>\n  </thead>\n  <tbody>\n    <tr>\n      <th>0</th>\n      <td>5</td>\n      <td>9</td>\n      <td>3</td>\n      <td>1</td>\n      <td>10</td>\n      <td>8</td>\n      <td>6</td>\n      <td>6</td>\n      <td>2</td>\n    </tr>\n    <tr>\n      <th>1</th>\n      <td>5</td>\n      <td>8</td>\n      <td>2</td>\n      <td>5</td>\n      <td>9</td>\n      <td>5</td>\n      <td>10</td>\n      <td>8</td>\n      <td>7</td>\n    </tr>\n    <tr>\n      <th>2</th>\n      <td>7</td>\n      <td>8</td>\n      <td>4</td>\n      <td>9</td>\n      <td>5</td>\n      <td>5</td>\n      <td>5</td>\n      <td>7</td>\n      <td>7</td>\n    </tr>\n    <tr>\n      <th>3</th>\n      <td>3</td>\n      <td>3</td>\n      <td>5</td>\n      <td>2</td>\n      <td>10</td>\n      <td>7</td>\n      <td>8</td>\n      <td>9</td>\n      <td>4</td>\n    </tr>\n    <tr>\n      <th>4</th>\n      <td>9</td>\n      <td>9</td>\n      <td>9</td>\n      <td>4</td>\n      <td>3</td>\n      <td>9</td>\n      <td>1</td>\n      <td>4</td>\n      <td>7</td>\n    </tr>\n  </tbody>\n</table>\n</div>"
     },
     "execution_count": 55,
     "metadata": {},
     "output_type": "execute_result"
    }
   ],
   "source": [
    "B=pd.DataFrame(B)\n",
    "B"
   ],
   "metadata": {
    "collapsed": false,
    "pycharm": {
     "name": "#%%\n"
    }
   }
  },
  {
   "cell_type": "code",
   "execution_count": 56,
   "outputs": [
    {
     "data": {
      "text/plain": "     0    1    2    3    4    5    6    7    8\n0  207  248  158  178  215  210  194  225  211\n1  211  261  177  140  248  247  197  230  194\n2  166  219  113  140  204  179  169  191  152\n3  239  296  184  188  268  258  227  262  230\n4  212  247  179  178  247  235  214  254  217\n5  229  298  174  165  289  263  239  263  215\n6  204  268  150  148  248  232  193  223  176\n7  165  218  114  157  244  185  221  233  176\n8  148  194  120  109  225  189  179  200  137",
      "text/html": "<div>\n<style scoped>\n    .dataframe tbody tr th:only-of-type {\n        vertical-align: middle;\n    }\n\n    .dataframe tbody tr th {\n        vertical-align: top;\n    }\n\n    .dataframe thead th {\n        text-align: right;\n    }\n</style>\n<table border=\"1\" class=\"dataframe\">\n  <thead>\n    <tr style=\"text-align: right;\">\n      <th></th>\n      <th>0</th>\n      <th>1</th>\n      <th>2</th>\n      <th>3</th>\n      <th>4</th>\n      <th>5</th>\n      <th>6</th>\n      <th>7</th>\n      <th>8</th>\n    </tr>\n  </thead>\n  <tbody>\n    <tr>\n      <th>0</th>\n      <td>207</td>\n      <td>248</td>\n      <td>158</td>\n      <td>178</td>\n      <td>215</td>\n      <td>210</td>\n      <td>194</td>\n      <td>225</td>\n      <td>211</td>\n    </tr>\n    <tr>\n      <th>1</th>\n      <td>211</td>\n      <td>261</td>\n      <td>177</td>\n      <td>140</td>\n      <td>248</td>\n      <td>247</td>\n      <td>197</td>\n      <td>230</td>\n      <td>194</td>\n    </tr>\n    <tr>\n      <th>2</th>\n      <td>166</td>\n      <td>219</td>\n      <td>113</td>\n      <td>140</td>\n      <td>204</td>\n      <td>179</td>\n      <td>169</td>\n      <td>191</td>\n      <td>152</td>\n    </tr>\n    <tr>\n      <th>3</th>\n      <td>239</td>\n      <td>296</td>\n      <td>184</td>\n      <td>188</td>\n      <td>268</td>\n      <td>258</td>\n      <td>227</td>\n      <td>262</td>\n      <td>230</td>\n    </tr>\n    <tr>\n      <th>4</th>\n      <td>212</td>\n      <td>247</td>\n      <td>179</td>\n      <td>178</td>\n      <td>247</td>\n      <td>235</td>\n      <td>214</td>\n      <td>254</td>\n      <td>217</td>\n    </tr>\n    <tr>\n      <th>5</th>\n      <td>229</td>\n      <td>298</td>\n      <td>174</td>\n      <td>165</td>\n      <td>289</td>\n      <td>263</td>\n      <td>239</td>\n      <td>263</td>\n      <td>215</td>\n    </tr>\n    <tr>\n      <th>6</th>\n      <td>204</td>\n      <td>268</td>\n      <td>150</td>\n      <td>148</td>\n      <td>248</td>\n      <td>232</td>\n      <td>193</td>\n      <td>223</td>\n      <td>176</td>\n    </tr>\n    <tr>\n      <th>7</th>\n      <td>165</td>\n      <td>218</td>\n      <td>114</td>\n      <td>157</td>\n      <td>244</td>\n      <td>185</td>\n      <td>221</td>\n      <td>233</td>\n      <td>176</td>\n    </tr>\n    <tr>\n      <th>8</th>\n      <td>148</td>\n      <td>194</td>\n      <td>120</td>\n      <td>109</td>\n      <td>225</td>\n      <td>189</td>\n      <td>179</td>\n      <td>200</td>\n      <td>137</td>\n    </tr>\n  </tbody>\n</table>\n</div>"
     },
     "execution_count": 56,
     "metadata": {},
     "output_type": "execute_result"
    }
   ],
   "source": [
    "A.dot(B)"
   ],
   "metadata": {
    "collapsed": false,
    "pycharm": {
     "name": "#%%\n"
    }
   }
  },
  {
   "cell_type": "markdown",
   "source": [
    "Doğrusal Denklem"
   ],
   "metadata": {
    "collapsed": false
   }
  },
  {
   "cell_type": "code",
   "execution_count": 60,
   "outputs": [],
   "source": [
    "\n",
    "class DoğrusalDenklem():\n",
    "\n",
    "    def __init__(self,A,b):\n",
    "        self.denklem=np.concatenate((A,b),axis=1)\n",
    "        self.satır_sayısı=self.denklem.shape[0]\n",
    "        self.sütün_sayısı=self.denklem.shape[1]\n",
    "\n",
    "    def __str__(self):\n",
    "        return \"Denklem sistemi ----> \\n {Ab}\".format(Ab=self.denklem)\n",
    "\n",
    "    def __len__(self):\n",
    "        return self.denklem.shape[0]\n",
    "\n",
    "    def __del__(self):\n",
    "        return  \"Doğrusal denklem silinmiştir.\"\n",
    "\n",
    "    def GaussJordan(self):\n",
    "        \"\"\"\n",
    "        Gauss Jordan methodu ile satır işlemleri yapıp, değişkenleri\n",
    "        hesaplar.Öncelikle katsayı matrisi ile sonuç matrisi birleştirilir.\n",
    "        İlk olarak köşegen elemanın 0'a eşitliği kontrol edilir.\n",
    "        Daha sonrasında ona ait sütündaki diğer elemanlar 0 olacak\n",
    "        şekilde satır işlemleri yapılır. Bütün satırların üzerinden\n",
    "        bu yöntemle geçilir.\n",
    "\n",
    "        \"\"\"\n",
    "\n",
    "        # Adım 1 : A|b matrisini oluştur.\n",
    "\n",
    "        Ab=self.denklem.copy()\n",
    "        Ab=Ab.astype(float)\n",
    "        satır_sayısı=Ab.shape[0]\n",
    "        sutun_sayısı=Ab.shape[1]\n",
    "\n",
    "        for i in range(satır_sayısı): # Bütün satırlar için yapılacaktır.\n",
    "            if Ab[i][i]==0:  # Satırdaki köşegen eleman 0 ise onu değiştirmek gereklidir.\n",
    "                Geçici=Ab[i].copy()\n",
    "                satır_indisleri=[a for a in range(i,satır_sayısı) if Ab[a][i]!=0]\n",
    "                if satır_indisleri:\n",
    "                    Ab[i]=Ab[satır_indisleri[0]].copy()\n",
    "                    Ab[satır_indisleri[0]]=Geçici\n",
    "                else:\n",
    "                    print(str(i)+\". satırından sonra işlem yapılamamaktadır\")\n",
    "                    return Ab\n",
    "            Ab[i]=Ab[i]/Ab[i][i] # Köşegen katsayısına bölüyoruz.\n",
    "            for s in range(satır_sayısı):\n",
    "                if i==s:\n",
    "                    pass\n",
    "                else:\n",
    "                    Ab[s]=Ab[s]-Ab[i]*Ab[s][i] # Bir satırı diğerinden çıkartarak köşegen alt kısımlarını sıfıra eşitliyoruz.\n",
    "\n",
    "        return Ab\n",
    "\n",
    "    def çözüm_durumu(self):\n",
    "        çözüm=self.GaussJordan()\n",
    "        satır_sayısı=self.satır_sayısı\n",
    "        sutun_sayısı= self.sütün_sayısı\n",
    "        tekÇözüm=False\n",
    "\n",
    "        for i in range(satır_sayısı):\n",
    "            if all(çözüm[i,:sutun_sayısı-1]==0) and çözüm[i,sutun_sayısı-1]!=0:\n",
    "                return \"çözümsüz\"\n",
    "\n",
    "        if satır_sayısı==(sutun_sayısı-1):\n",
    "            i=0\n",
    "            while i<satır_sayısı and çözüm[i][i]==1:\n",
    "                i+=1\n",
    "\n",
    "            if i==satır_sayısı:\n",
    "                tekÇözüm=True\n",
    "                return \"tek\"\n",
    "        else:\n",
    "            return \"sonsuz\"\n",
    "\n",
    "    def rank_sayar(self):\n",
    "        Ab=self.GaussJordan()\n",
    "        say=0\n",
    "        satır_sayısı=Ab.shape[0]\n",
    "        for i in range(satır_sayısı):\n",
    "               if Ab[i][i]==1 and Ab[:,i].sum()==1:\n",
    "                    say+=1\n",
    "        return say\n",
    "\n",
    "    def doğrusal_bağımsız(self):\n",
    "        Ab=self.GaussJordan()\n",
    "        rank=self.rank_sayar()\n",
    "        m=Ab.shape[0]\n",
    "        if m==rank:\n",
    "            return True\n",
    "        elif m>rank:\n",
    "            return False\n",
    "        else:\n",
    "            return \"Error\""
   ],
   "metadata": {
    "collapsed": false,
    "pycharm": {
     "name": "#%%\n"
    }
   }
  },
  {
   "cell_type": "code",
   "execution_count": 65,
   "outputs": [
    {
     "ename": "KeyboardInterrupt",
     "evalue": "",
     "output_type": "error",
     "traceback": [
      "\u001B[0;31m---------------------------------------------------------------------------\u001B[0m",
      "\u001B[0;31mKeyboardInterrupt\u001B[0m                         Traceback (most recent call last)",
      "\u001B[0;32m<ipython-input-65-55562be3a294>\u001B[0m in \u001B[0;36m<module>\u001B[0;34m\u001B[0m\n\u001B[1;32m      5\u001B[0m \u001B[0mb\u001B[0m\u001B[0;34m=\u001B[0m\u001B[0mnp\u001B[0m\u001B[0;34m.\u001B[0m\u001B[0marray\u001B[0m\u001B[0;34m(\u001B[0m\u001B[0;34m[\u001B[0m\u001B[0;34m[\u001B[0m\u001B[0;36m4\u001B[0m\u001B[0;34m]\u001B[0m\u001B[0;34m,\u001B[0m\u001B[0;34m[\u001B[0m\u001B[0;36m4\u001B[0m\u001B[0;34m]\u001B[0m\u001B[0;34m,\u001B[0m\u001B[0;34m[\u001B[0m\u001B[0;36m0\u001B[0m\u001B[0;34m]\u001B[0m\u001B[0;34m]\u001B[0m\u001B[0;34m,\u001B[0m\u001B[0mfloat\u001B[0m\u001B[0;34m)\u001B[0m\u001B[0;34m\u001B[0m\u001B[0;34m\u001B[0m\u001B[0m\n\u001B[1;32m      6\u001B[0m \u001B[0mdenklem\u001B[0m\u001B[0;34m=\u001B[0m\u001B[0mDoğrusalDenklem\u001B[0m\u001B[0;34m(\u001B[0m\u001B[0mA\u001B[0m\u001B[0;34m,\u001B[0m\u001B[0mb\u001B[0m\u001B[0;34m)\u001B[0m\u001B[0;34m\u001B[0m\u001B[0;34m\u001B[0m\u001B[0m\n\u001B[0;32m----> 7\u001B[0;31m \u001B[0mdenklem\u001B[0m\u001B[0;34m.\u001B[0m\u001B[0mGaussJordan\u001B[0m\u001B[0;34m(\u001B[0m\u001B[0;34m)\u001B[0m\u001B[0;34m\u001B[0m\u001B[0;34m\u001B[0m\u001B[0m\n\u001B[0m",
      "\u001B[0;32m<ipython-input-60-6b8ae5431ffb>\u001B[0m in \u001B[0;36mGaussJordan\u001B[0;34m(self)\u001B[0m\n\u001B[1;32m     52\u001B[0m                     \u001B[0mAb\u001B[0m\u001B[0;34m[\u001B[0m\u001B[0ms\u001B[0m\u001B[0;34m]\u001B[0m\u001B[0;34m=\u001B[0m\u001B[0mAb\u001B[0m\u001B[0;34m[\u001B[0m\u001B[0ms\u001B[0m\u001B[0;34m]\u001B[0m\u001B[0;34m-\u001B[0m\u001B[0mAb\u001B[0m\u001B[0;34m[\u001B[0m\u001B[0mi\u001B[0m\u001B[0;34m]\u001B[0m\u001B[0;34m*\u001B[0m\u001B[0mAb\u001B[0m\u001B[0;34m[\u001B[0m\u001B[0ms\u001B[0m\u001B[0;34m]\u001B[0m\u001B[0;34m[\u001B[0m\u001B[0mi\u001B[0m\u001B[0;34m]\u001B[0m\u001B[0;34m\u001B[0m\u001B[0;34m\u001B[0m\u001B[0m\n\u001B[1;32m     53\u001B[0m \u001B[0;34m\u001B[0m\u001B[0m\n\u001B[0;32m---> 54\u001B[0;31m         \u001B[0;32mreturn\u001B[0m \u001B[0mAb\u001B[0m\u001B[0;34m\u001B[0m\u001B[0;34m\u001B[0m\u001B[0m\n\u001B[0m\u001B[1;32m     55\u001B[0m \u001B[0;34m\u001B[0m\u001B[0m\n\u001B[1;32m     56\u001B[0m     \u001B[0;32mdef\u001B[0m \u001B[0mçözüm_durumu\u001B[0m\u001B[0;34m(\u001B[0m\u001B[0mself\u001B[0m\u001B[0;34m)\u001B[0m\u001B[0;34m:\u001B[0m\u001B[0;34m\u001B[0m\u001B[0;34m\u001B[0m\u001B[0m\n",
      "\u001B[0;32m<ipython-input-60-6b8ae5431ffb>\u001B[0m in \u001B[0;36mGaussJordan\u001B[0;34m(self)\u001B[0m\n\u001B[1;32m     52\u001B[0m                     \u001B[0mAb\u001B[0m\u001B[0;34m[\u001B[0m\u001B[0ms\u001B[0m\u001B[0;34m]\u001B[0m\u001B[0;34m=\u001B[0m\u001B[0mAb\u001B[0m\u001B[0;34m[\u001B[0m\u001B[0ms\u001B[0m\u001B[0;34m]\u001B[0m\u001B[0;34m-\u001B[0m\u001B[0mAb\u001B[0m\u001B[0;34m[\u001B[0m\u001B[0mi\u001B[0m\u001B[0;34m]\u001B[0m\u001B[0;34m*\u001B[0m\u001B[0mAb\u001B[0m\u001B[0;34m[\u001B[0m\u001B[0ms\u001B[0m\u001B[0;34m]\u001B[0m\u001B[0;34m[\u001B[0m\u001B[0mi\u001B[0m\u001B[0;34m]\u001B[0m\u001B[0;34m\u001B[0m\u001B[0;34m\u001B[0m\u001B[0m\n\u001B[1;32m     53\u001B[0m \u001B[0;34m\u001B[0m\u001B[0m\n\u001B[0;32m---> 54\u001B[0;31m         \u001B[0;32mreturn\u001B[0m \u001B[0mAb\u001B[0m\u001B[0;34m\u001B[0m\u001B[0;34m\u001B[0m\u001B[0m\n\u001B[0m\u001B[1;32m     55\u001B[0m \u001B[0;34m\u001B[0m\u001B[0m\n\u001B[1;32m     56\u001B[0m     \u001B[0;32mdef\u001B[0m \u001B[0mçözüm_durumu\u001B[0m\u001B[0;34m(\u001B[0m\u001B[0mself\u001B[0m\u001B[0;34m)\u001B[0m\u001B[0;34m:\u001B[0m\u001B[0;34m\u001B[0m\u001B[0;34m\u001B[0m\u001B[0m\n",
      "\u001B[0;32m~/.local/share/JetBrains/Toolbox/apps/PyCharm-P/ch-0/203.7148.72/plugins/python/helpers/pydev/_pydevd_bundle/pydevd_frame.py\u001B[0m in \u001B[0;36mtrace_dispatch\u001B[0;34m(self, frame, event, arg)\u001B[0m\n\u001B[1;32m    745\u001B[0m                 \u001B[0;31m# if thread has a suspend flag, we suspend with a busy wait\u001B[0m\u001B[0;34m\u001B[0m\u001B[0;34m\u001B[0m\u001B[0;34m\u001B[0m\u001B[0m\n\u001B[1;32m    746\u001B[0m                 \u001B[0;32mif\u001B[0m \u001B[0minfo\u001B[0m\u001B[0;34m.\u001B[0m\u001B[0mpydev_state\u001B[0m \u001B[0;34m==\u001B[0m \u001B[0mSTATE_SUSPEND\u001B[0m\u001B[0;34m:\u001B[0m\u001B[0;34m\u001B[0m\u001B[0;34m\u001B[0m\u001B[0m\n\u001B[0;32m--> 747\u001B[0;31m                     \u001B[0mself\u001B[0m\u001B[0;34m.\u001B[0m\u001B[0mdo_wait_suspend\u001B[0m\u001B[0;34m(\u001B[0m\u001B[0mthread\u001B[0m\u001B[0;34m,\u001B[0m \u001B[0mframe\u001B[0m\u001B[0;34m,\u001B[0m \u001B[0mevent\u001B[0m\u001B[0;34m,\u001B[0m \u001B[0marg\u001B[0m\u001B[0;34m)\u001B[0m\u001B[0;34m\u001B[0m\u001B[0;34m\u001B[0m\u001B[0m\n\u001B[0m\u001B[1;32m    748\u001B[0m                     \u001B[0;31m# No need to reset frame.f_trace to keep the same trace function.\u001B[0m\u001B[0;34m\u001B[0m\u001B[0;34m\u001B[0m\u001B[0;34m\u001B[0m\u001B[0m\n\u001B[1;32m    749\u001B[0m                     \u001B[0;32mreturn\u001B[0m \u001B[0mself\u001B[0m\u001B[0;34m.\u001B[0m\u001B[0mtrace_dispatch\u001B[0m\u001B[0;34m\u001B[0m\u001B[0;34m\u001B[0m\u001B[0m\n",
      "\u001B[0;32m~/.local/share/JetBrains/Toolbox/apps/PyCharm-P/ch-0/203.7148.72/plugins/python/helpers/pydev/_pydevd_bundle/pydevd_frame.py\u001B[0m in \u001B[0;36mdo_wait_suspend\u001B[0;34m(self, *args, **kwargs)\u001B[0m\n\u001B[1;32m    142\u001B[0m \u001B[0;34m\u001B[0m\u001B[0m\n\u001B[1;32m    143\u001B[0m     \u001B[0;32mdef\u001B[0m \u001B[0mdo_wait_suspend\u001B[0m\u001B[0;34m(\u001B[0m\u001B[0mself\u001B[0m\u001B[0;34m,\u001B[0m \u001B[0;34m*\u001B[0m\u001B[0margs\u001B[0m\u001B[0;34m,\u001B[0m \u001B[0;34m**\u001B[0m\u001B[0mkwargs\u001B[0m\u001B[0;34m)\u001B[0m\u001B[0;34m:\u001B[0m\u001B[0;34m\u001B[0m\u001B[0;34m\u001B[0m\u001B[0m\n\u001B[0;32m--> 144\u001B[0;31m         \u001B[0mself\u001B[0m\u001B[0;34m.\u001B[0m\u001B[0m_args\u001B[0m\u001B[0;34m[\u001B[0m\u001B[0;36m0\u001B[0m\u001B[0;34m]\u001B[0m\u001B[0;34m.\u001B[0m\u001B[0mdo_wait_suspend\u001B[0m\u001B[0;34m(\u001B[0m\u001B[0;34m*\u001B[0m\u001B[0margs\u001B[0m\u001B[0;34m,\u001B[0m \u001B[0;34m**\u001B[0m\u001B[0mkwargs\u001B[0m\u001B[0;34m)\u001B[0m\u001B[0;34m\u001B[0m\u001B[0;34m\u001B[0m\u001B[0m\n\u001B[0m\u001B[1;32m    145\u001B[0m \u001B[0;34m\u001B[0m\u001B[0m\n\u001B[1;32m    146\u001B[0m     \u001B[0;31m# IFDEF CYTHON\u001B[0m\u001B[0;34m\u001B[0m\u001B[0;34m\u001B[0m\u001B[0;34m\u001B[0m\u001B[0m\n",
      "\u001B[0;32m~/.local/share/JetBrains/Toolbox/apps/PyCharm-P/ch-0/203.7148.72/plugins/python/helpers/pydev/pydevd.py\u001B[0m in \u001B[0;36mdo_wait_suspend\u001B[0;34m(self, thread, frame, event, arg, send_suspend_message, is_unhandled_exception)\u001B[0m\n\u001B[1;32m   1139\u001B[0m \u001B[0;34m\u001B[0m\u001B[0m\n\u001B[1;32m   1140\u001B[0m         \u001B[0;32mwith\u001B[0m \u001B[0mself\u001B[0m\u001B[0;34m.\u001B[0m\u001B[0m_threads_suspended_single_notification\u001B[0m\u001B[0;34m.\u001B[0m\u001B[0mnotify_thread_suspended\u001B[0m\u001B[0;34m(\u001B[0m\u001B[0mthread_id\u001B[0m\u001B[0;34m,\u001B[0m \u001B[0mstop_reason\u001B[0m\u001B[0;34m)\u001B[0m\u001B[0;34m:\u001B[0m\u001B[0;34m\u001B[0m\u001B[0;34m\u001B[0m\u001B[0m\n\u001B[0;32m-> 1141\u001B[0;31m             \u001B[0mself\u001B[0m\u001B[0;34m.\u001B[0m\u001B[0m_do_wait_suspend\u001B[0m\u001B[0;34m(\u001B[0m\u001B[0mthread\u001B[0m\u001B[0;34m,\u001B[0m \u001B[0mframe\u001B[0m\u001B[0;34m,\u001B[0m \u001B[0mevent\u001B[0m\u001B[0;34m,\u001B[0m \u001B[0marg\u001B[0m\u001B[0;34m,\u001B[0m \u001B[0msuspend_type\u001B[0m\u001B[0;34m,\u001B[0m \u001B[0mfrom_this_thread\u001B[0m\u001B[0;34m)\u001B[0m\u001B[0;34m\u001B[0m\u001B[0;34m\u001B[0m\u001B[0m\n\u001B[0m\u001B[1;32m   1142\u001B[0m \u001B[0;34m\u001B[0m\u001B[0m\n\u001B[1;32m   1143\u001B[0m     \u001B[0;32mdef\u001B[0m \u001B[0m_do_wait_suspend\u001B[0m\u001B[0;34m(\u001B[0m\u001B[0mself\u001B[0m\u001B[0;34m,\u001B[0m \u001B[0mthread\u001B[0m\u001B[0;34m,\u001B[0m \u001B[0mframe\u001B[0m\u001B[0;34m,\u001B[0m \u001B[0mevent\u001B[0m\u001B[0;34m,\u001B[0m \u001B[0marg\u001B[0m\u001B[0;34m,\u001B[0m \u001B[0msuspend_type\u001B[0m\u001B[0;34m,\u001B[0m \u001B[0mfrom_this_thread\u001B[0m\u001B[0;34m)\u001B[0m\u001B[0;34m:\u001B[0m\u001B[0;34m\u001B[0m\u001B[0;34m\u001B[0m\u001B[0m\n",
      "\u001B[0;32m~/.local/share/JetBrains/Toolbox/apps/PyCharm-P/ch-0/203.7148.72/plugins/python/helpers/pydev/pydevd.py\u001B[0m in \u001B[0;36m_do_wait_suspend\u001B[0;34m(self, thread, frame, event, arg, suspend_type, from_this_thread)\u001B[0m\n\u001B[1;32m   1154\u001B[0m \u001B[0;34m\u001B[0m\u001B[0m\n\u001B[1;32m   1155\u001B[0m                 \u001B[0mself\u001B[0m\u001B[0;34m.\u001B[0m\u001B[0mprocess_internal_commands\u001B[0m\u001B[0;34m(\u001B[0m\u001B[0;34m)\u001B[0m\u001B[0;34m\u001B[0m\u001B[0;34m\u001B[0m\u001B[0m\n\u001B[0;32m-> 1156\u001B[0;31m                 \u001B[0mtime\u001B[0m\u001B[0;34m.\u001B[0m\u001B[0msleep\u001B[0m\u001B[0;34m(\u001B[0m\u001B[0;36m0.01\u001B[0m\u001B[0;34m)\u001B[0m\u001B[0;34m\u001B[0m\u001B[0;34m\u001B[0m\u001B[0m\n\u001B[0m\u001B[1;32m   1157\u001B[0m \u001B[0;34m\u001B[0m\u001B[0m\n\u001B[1;32m   1158\u001B[0m         \u001B[0mself\u001B[0m\u001B[0;34m.\u001B[0m\u001B[0mcancel_async_evaluation\u001B[0m\u001B[0;34m(\u001B[0m\u001B[0mget_current_thread_id\u001B[0m\u001B[0;34m(\u001B[0m\u001B[0mthread\u001B[0m\u001B[0;34m)\u001B[0m\u001B[0;34m,\u001B[0m \u001B[0mstr\u001B[0m\u001B[0;34m(\u001B[0m\u001B[0mid\u001B[0m\u001B[0;34m(\u001B[0m\u001B[0mframe\u001B[0m\u001B[0;34m)\u001B[0m\u001B[0;34m)\u001B[0m\u001B[0;34m)\u001B[0m\u001B[0;34m\u001B[0m\u001B[0;34m\u001B[0m\u001B[0m\n",
      "\u001B[0;31mKeyboardInterrupt\u001B[0m: "
     ]
    }
   ],
   "source": [
    "\n",
    "# 1\n",
    "A=np.array([[0,2,2 ],[1,2,1 ],[0,1,-1 ]],float)\n",
    "b=np.array([[4],[4],[0]],float)\n",
    "denklem=DoğrusalDenklem(A,b)\n",
    "denklem.GaussJordan()"
   ],
   "metadata": {
    "collapsed": false,
    "pycharm": {
     "name": "#%%\n"
    }
   }
  },
  {
   "cell_type": "code",
   "execution_count": 64,
   "outputs": [
    {
     "data": {
      "text/plain": "'tek'"
     },
     "execution_count": 64,
     "metadata": {},
     "output_type": "execute_result"
    }
   ],
   "source": [
    "denklem.çözüm_durumu()"
   ],
   "metadata": {
    "collapsed": false,
    "pycharm": {
     "name": "#%%\n"
    }
   }
  }
 ],
 "metadata": {
  "kernelspec": {
   "display_name": "Python 3",
   "language": "python",
   "name": "python3"
  },
  "language_info": {
   "codemirror_mode": {
    "name": "ipython",
    "version": 2
   },
   "file_extension": ".py",
   "mimetype": "text/x-python",
   "name": "python",
   "nbconvert_exporter": "python",
   "pygments_lexer": "ipython2",
   "version": "2.7.6"
  }
 },
 "nbformat": 4,
 "nbformat_minor": 0
}