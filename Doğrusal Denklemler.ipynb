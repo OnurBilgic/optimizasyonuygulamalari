{
 "cells": [
  {
   "cell_type": "code",
   "execution_count": 7,
   "metadata": {
    "collapsed": true
   },
   "outputs": [],
   "source": [
    "import pandas as pd\n",
    "import numpy as np"
   ]
  },
  {
   "cell_type": "markdown",
   "source": [
    "Vektör"
   ],
   "metadata": {
    "collapsed": false
   }
  },
  {
   "cell_type": "code",
   "execution_count": 8,
   "outputs": [
    {
     "data": {
      "text/plain": "array([1, 2])"
     },
     "execution_count": 8,
     "metadata": {},
     "output_type": "execute_result"
    }
   ],
   "source": [
    "v=np.array([1,2])\n",
    "v"
   ],
   "metadata": {
    "collapsed": false,
    "pycharm": {
     "name": "#%%\n"
    }
   }
  },
  {
   "cell_type": "markdown",
   "source": [
    "\n",
    "Matris"
   ],
   "metadata": {
    "collapsed": false,
    "pycharm": {
     "name": "#%% md\n"
    }
   }
  },
  {
   "cell_type": "code",
   "execution_count": 9,
   "outputs": [
    {
     "data": {
      "text/plain": "array([[2, 3],\n       [5, 7]])"
     },
     "execution_count": 9,
     "metadata": {},
     "output_type": "execute_result"
    }
   ],
   "source": [
    "m= np.array([[2,3],[5,7]])\n",
    "m"
   ],
   "metadata": {
    "collapsed": false,
    "pycharm": {
     "name": "#%%\n"
    }
   }
  },
  {
   "cell_type": "markdown",
   "source": [
    "Matris Çarpımı"
   ],
   "metadata": {
    "collapsed": false
   }
  },
  {
   "cell_type": "code",
   "execution_count": 10,
   "outputs": [
    {
     "data": {
      "text/plain": "array([ 8, 19])"
     },
     "execution_count": 10,
     "metadata": {},
     "output_type": "execute_result"
    }
   ],
   "source": [
    "m.dot(v)"
   ],
   "metadata": {
    "collapsed": false,
    "pycharm": {
     "name": "#%%\n"
    }
   }
  },
  {
   "cell_type": "markdown",
   "source": [
    "SpreadSheet Örnek"
   ],
   "metadata": {
    "collapsed": false
   }
  },
  {
   "cell_type": "code",
   "execution_count": 11,
   "outputs": [
    {
     "data": {
      "text/plain": "array([[ 1,  9, 10,  5,  8],\n       [ 6,  7,  5,  7, 10],\n       [ 7,  5, 10,  3,  3],\n       [ 5,  9, 10,  6,  9],\n       [ 1,  7, 10, 10,  8],\n       [ 8, 10,  7,  6,  8],\n       [10,  5,  9,  4,  6],\n       [ 4,  9, 10,  7,  1],\n       [ 7,  4,  6,  8,  3]])"
     },
     "execution_count": 11,
     "metadata": {},
     "output_type": "execute_result"
    }
   ],
   "source": [
    "A= np.array([   [1,9,10,5,8],\n",
    "                [6,7,5,7,10],\n",
    "                [7,5,10,3,3],\n",
    "                [5,9,10,6,9],\n",
    "                [1,7,10,10,8],\n",
    "                [8,10,7,6,8],\n",
    "                [10,5,9,4,6],\n",
    "                [4,9,10,7,1],\n",
    "                [7,4,6,8,3]  ])\n",
    "A"
   ],
   "metadata": {
    "collapsed": false,
    "pycharm": {
     "name": "#%%\n"
    }
   }
  },
  {
   "cell_type": "code",
   "execution_count": 12,
   "outputs": [
    {
     "data": {
      "text/plain": "(9, 5)"
     },
     "execution_count": 12,
     "metadata": {},
     "output_type": "execute_result"
    }
   ],
   "source": [
    "A.shape"
   ],
   "metadata": {
    "collapsed": false,
    "pycharm": {
     "name": "#%%\n"
    }
   }
  },
  {
   "cell_type": "code",
   "execution_count": 13,
   "outputs": [
    {
     "data": {
      "text/plain": "array([[ 5,  9,  3,  1, 10,  8,  6,  6,  2],\n       [ 5,  8,  2,  5,  9,  5, 10,  8,  7],\n       [ 7,  8,  4,  9,  5,  5,  5,  7,  7],\n       [ 3,  3,  5,  2, 10,  7,  8,  9,  4],\n       [ 9,  9,  9,  4,  3,  9,  1,  4,  7]])"
     },
     "execution_count": 13,
     "metadata": {},
     "output_type": "execute_result"
    }
   ],
   "source": [
    "B=np.array([   [5,9,3,1,10,8,6,6,2],\n",
    "                [5,8,2,5,9,5,10,8,7],\n",
    "                [7,8,4,9,5,5,5,7,7],\n",
    "                [3,3,5,2,10,7,8,9,4],\n",
    "                [9,9,9,4,3,9,1,4,7],])\n",
    "B"
   ],
   "metadata": {
    "collapsed": false,
    "pycharm": {
     "name": "#%%\n"
    }
   }
  },
  {
   "cell_type": "code",
   "execution_count": 14,
   "outputs": [
    {
     "data": {
      "text/plain": "(5, 9)"
     },
     "execution_count": 14,
     "metadata": {},
     "output_type": "execute_result"
    }
   ],
   "source": [
    "B.shape"
   ],
   "metadata": {
    "collapsed": false,
    "pycharm": {
     "name": "#%%\n"
    }
   }
  },
  {
   "cell_type": "code",
   "execution_count": 15,
   "outputs": [
    {
     "data": {
      "text/plain": "array([[207, 248, 158, 178, 215, 210, 194, 225, 211],\n       [211, 261, 177, 140, 248, 247, 197, 230, 194],\n       [166, 219, 113, 140, 204, 179, 169, 191, 152],\n       [239, 296, 184, 188, 268, 258, 227, 262, 230],\n       [212, 247, 179, 178, 247, 235, 214, 254, 217],\n       [229, 298, 174, 165, 289, 263, 239, 263, 215],\n       [204, 268, 150, 148, 248, 232, 193, 223, 176],\n       [165, 218, 114, 157, 244, 185, 221, 233, 176],\n       [148, 194, 120, 109, 225, 189, 179, 200, 137]])"
     },
     "execution_count": 15,
     "metadata": {},
     "output_type": "execute_result"
    }
   ],
   "source": [
    "A.dot(B)"
   ],
   "metadata": {
    "collapsed": false,
    "pycharm": {
     "name": "#%%\n"
    }
   }
  },
  {
   "cell_type": "markdown",
   "source": [
    "Pandas"
   ],
   "metadata": {
    "collapsed": false
   }
  },
  {
   "cell_type": "code",
   "execution_count": 16,
   "outputs": [
    {
     "data": {
      "text/plain": "    0   1   2   3   4\n0   1   9  10   5   8\n1   6   7   5   7  10\n2   7   5  10   3   3\n3   5   9  10   6   9\n4   1   7  10  10   8\n5   8  10   7   6   8\n6  10   5   9   4   6\n7   4   9  10   7   1\n8   7   4   6   8   3",
      "text/html": "<div>\n<style scoped>\n    .dataframe tbody tr th:only-of-type {\n        vertical-align: middle;\n    }\n\n    .dataframe tbody tr th {\n        vertical-align: top;\n    }\n\n    .dataframe thead th {\n        text-align: right;\n    }\n</style>\n<table border=\"1\" class=\"dataframe\">\n  <thead>\n    <tr style=\"text-align: right;\">\n      <th></th>\n      <th>0</th>\n      <th>1</th>\n      <th>2</th>\n      <th>3</th>\n      <th>4</th>\n    </tr>\n  </thead>\n  <tbody>\n    <tr>\n      <th>0</th>\n      <td>1</td>\n      <td>9</td>\n      <td>10</td>\n      <td>5</td>\n      <td>8</td>\n    </tr>\n    <tr>\n      <th>1</th>\n      <td>6</td>\n      <td>7</td>\n      <td>5</td>\n      <td>7</td>\n      <td>10</td>\n    </tr>\n    <tr>\n      <th>2</th>\n      <td>7</td>\n      <td>5</td>\n      <td>10</td>\n      <td>3</td>\n      <td>3</td>\n    </tr>\n    <tr>\n      <th>3</th>\n      <td>5</td>\n      <td>9</td>\n      <td>10</td>\n      <td>6</td>\n      <td>9</td>\n    </tr>\n    <tr>\n      <th>4</th>\n      <td>1</td>\n      <td>7</td>\n      <td>10</td>\n      <td>10</td>\n      <td>8</td>\n    </tr>\n    <tr>\n      <th>5</th>\n      <td>8</td>\n      <td>10</td>\n      <td>7</td>\n      <td>6</td>\n      <td>8</td>\n    </tr>\n    <tr>\n      <th>6</th>\n      <td>10</td>\n      <td>5</td>\n      <td>9</td>\n      <td>4</td>\n      <td>6</td>\n    </tr>\n    <tr>\n      <th>7</th>\n      <td>4</td>\n      <td>9</td>\n      <td>10</td>\n      <td>7</td>\n      <td>1</td>\n    </tr>\n    <tr>\n      <th>8</th>\n      <td>7</td>\n      <td>4</td>\n      <td>6</td>\n      <td>8</td>\n      <td>3</td>\n    </tr>\n  </tbody>\n</table>\n</div>"
     },
     "execution_count": 16,
     "metadata": {},
     "output_type": "execute_result"
    }
   ],
   "source": [
    "A=pd.DataFrame(A)\n",
    "A"
   ],
   "metadata": {
    "collapsed": false,
    "pycharm": {
     "name": "#%%\n"
    }
   }
  },
  {
   "cell_type": "code",
   "execution_count": 17,
   "outputs": [
    {
     "data": {
      "text/plain": "   0  1  2  3   4  5   6  7  8\n0  5  9  3  1  10  8   6  6  2\n1  5  8  2  5   9  5  10  8  7\n2  7  8  4  9   5  5   5  7  7\n3  3  3  5  2  10  7   8  9  4\n4  9  9  9  4   3  9   1  4  7",
      "text/html": "<div>\n<style scoped>\n    .dataframe tbody tr th:only-of-type {\n        vertical-align: middle;\n    }\n\n    .dataframe tbody tr th {\n        vertical-align: top;\n    }\n\n    .dataframe thead th {\n        text-align: right;\n    }\n</style>\n<table border=\"1\" class=\"dataframe\">\n  <thead>\n    <tr style=\"text-align: right;\">\n      <th></th>\n      <th>0</th>\n      <th>1</th>\n      <th>2</th>\n      <th>3</th>\n      <th>4</th>\n      <th>5</th>\n      <th>6</th>\n      <th>7</th>\n      <th>8</th>\n    </tr>\n  </thead>\n  <tbody>\n    <tr>\n      <th>0</th>\n      <td>5</td>\n      <td>9</td>\n      <td>3</td>\n      <td>1</td>\n      <td>10</td>\n      <td>8</td>\n      <td>6</td>\n      <td>6</td>\n      <td>2</td>\n    </tr>\n    <tr>\n      <th>1</th>\n      <td>5</td>\n      <td>8</td>\n      <td>2</td>\n      <td>5</td>\n      <td>9</td>\n      <td>5</td>\n      <td>10</td>\n      <td>8</td>\n      <td>7</td>\n    </tr>\n    <tr>\n      <th>2</th>\n      <td>7</td>\n      <td>8</td>\n      <td>4</td>\n      <td>9</td>\n      <td>5</td>\n      <td>5</td>\n      <td>5</td>\n      <td>7</td>\n      <td>7</td>\n    </tr>\n    <tr>\n      <th>3</th>\n      <td>3</td>\n      <td>3</td>\n      <td>5</td>\n      <td>2</td>\n      <td>10</td>\n      <td>7</td>\n      <td>8</td>\n      <td>9</td>\n      <td>4</td>\n    </tr>\n    <tr>\n      <th>4</th>\n      <td>9</td>\n      <td>9</td>\n      <td>9</td>\n      <td>4</td>\n      <td>3</td>\n      <td>9</td>\n      <td>1</td>\n      <td>4</td>\n      <td>7</td>\n    </tr>\n  </tbody>\n</table>\n</div>"
     },
     "execution_count": 17,
     "metadata": {},
     "output_type": "execute_result"
    }
   ],
   "source": [
    "B=pd.DataFrame(B)\n",
    "B"
   ],
   "metadata": {
    "collapsed": false,
    "pycharm": {
     "name": "#%%\n"
    }
   }
  },
  {
   "cell_type": "code",
   "execution_count": 18,
   "outputs": [
    {
     "data": {
      "text/plain": "     0    1    2    3    4    5    6    7    8\n0  207  248  158  178  215  210  194  225  211\n1  211  261  177  140  248  247  197  230  194\n2  166  219  113  140  204  179  169  191  152\n3  239  296  184  188  268  258  227  262  230\n4  212  247  179  178  247  235  214  254  217\n5  229  298  174  165  289  263  239  263  215\n6  204  268  150  148  248  232  193  223  176\n7  165  218  114  157  244  185  221  233  176\n8  148  194  120  109  225  189  179  200  137",
      "text/html": "<div>\n<style scoped>\n    .dataframe tbody tr th:only-of-type {\n        vertical-align: middle;\n    }\n\n    .dataframe tbody tr th {\n        vertical-align: top;\n    }\n\n    .dataframe thead th {\n        text-align: right;\n    }\n</style>\n<table border=\"1\" class=\"dataframe\">\n  <thead>\n    <tr style=\"text-align: right;\">\n      <th></th>\n      <th>0</th>\n      <th>1</th>\n      <th>2</th>\n      <th>3</th>\n      <th>4</th>\n      <th>5</th>\n      <th>6</th>\n      <th>7</th>\n      <th>8</th>\n    </tr>\n  </thead>\n  <tbody>\n    <tr>\n      <th>0</th>\n      <td>207</td>\n      <td>248</td>\n      <td>158</td>\n      <td>178</td>\n      <td>215</td>\n      <td>210</td>\n      <td>194</td>\n      <td>225</td>\n      <td>211</td>\n    </tr>\n    <tr>\n      <th>1</th>\n      <td>211</td>\n      <td>261</td>\n      <td>177</td>\n      <td>140</td>\n      <td>248</td>\n      <td>247</td>\n      <td>197</td>\n      <td>230</td>\n      <td>194</td>\n    </tr>\n    <tr>\n      <th>2</th>\n      <td>166</td>\n      <td>219</td>\n      <td>113</td>\n      <td>140</td>\n      <td>204</td>\n      <td>179</td>\n      <td>169</td>\n      <td>191</td>\n      <td>152</td>\n    </tr>\n    <tr>\n      <th>3</th>\n      <td>239</td>\n      <td>296</td>\n      <td>184</td>\n      <td>188</td>\n      <td>268</td>\n      <td>258</td>\n      <td>227</td>\n      <td>262</td>\n      <td>230</td>\n    </tr>\n    <tr>\n      <th>4</th>\n      <td>212</td>\n      <td>247</td>\n      <td>179</td>\n      <td>178</td>\n      <td>247</td>\n      <td>235</td>\n      <td>214</td>\n      <td>254</td>\n      <td>217</td>\n    </tr>\n    <tr>\n      <th>5</th>\n      <td>229</td>\n      <td>298</td>\n      <td>174</td>\n      <td>165</td>\n      <td>289</td>\n      <td>263</td>\n      <td>239</td>\n      <td>263</td>\n      <td>215</td>\n    </tr>\n    <tr>\n      <th>6</th>\n      <td>204</td>\n      <td>268</td>\n      <td>150</td>\n      <td>148</td>\n      <td>248</td>\n      <td>232</td>\n      <td>193</td>\n      <td>223</td>\n      <td>176</td>\n    </tr>\n    <tr>\n      <th>7</th>\n      <td>165</td>\n      <td>218</td>\n      <td>114</td>\n      <td>157</td>\n      <td>244</td>\n      <td>185</td>\n      <td>221</td>\n      <td>233</td>\n      <td>176</td>\n    </tr>\n    <tr>\n      <th>8</th>\n      <td>148</td>\n      <td>194</td>\n      <td>120</td>\n      <td>109</td>\n      <td>225</td>\n      <td>189</td>\n      <td>179</td>\n      <td>200</td>\n      <td>137</td>\n    </tr>\n  </tbody>\n</table>\n</div>"
     },
     "execution_count": 18,
     "metadata": {},
     "output_type": "execute_result"
    }
   ],
   "source": [
    "A.dot(B)"
   ],
   "metadata": {
    "collapsed": false,
    "pycharm": {
     "name": "#%%\n"
    }
   }
  }
 ],
 "metadata": {
  "kernelspec": {
   "display_name": "Python 3",
   "language": "python",
   "name": "python3"
  },
  "language_info": {
   "codemirror_mode": {
    "name": "ipython",
    "version": 2
   },
   "file_extension": ".py",
   "mimetype": "text/x-python",
   "name": "python",
   "nbconvert_exporter": "python",
   "pygments_lexer": "ipython2",
   "version": "2.7.6"
  }
 },
 "nbformat": 4,
 "nbformat_minor": 0
}