{
 "cells": [
  {
   "cell_type": "code",
   "execution_count": 7,
   "metadata": {
    "collapsed": true
   },
   "outputs": [],
   "source": [
    "import pandas as pd\n",
    "import numpy as np"
   ]
  },
  {
   "cell_type": "markdown",
   "source": [
    "Vektör"
   ],
   "metadata": {
    "collapsed": false
   }
  },
  {
   "cell_type": "code",
   "execution_count": 8,
   "outputs": [
    {
     "data": {
      "text/plain": "array([1, 2])"
     },
     "execution_count": 8,
     "metadata": {},
     "output_type": "execute_result"
    }
   ],
   "source": [
    "v=np.array([1,2])\n",
    "v"
   ],
   "metadata": {
    "collapsed": false,
    "pycharm": {
     "name": "#%%\n"
    }
   }
  },
  {
   "cell_type": "markdown",
   "source": [
    "\n",
    "Matris"
   ],
   "metadata": {
    "collapsed": false,
    "pycharm": {
     "name": "#%% md\n"
    }
   }
  },
  {
   "cell_type": "code",
   "execution_count": 9,
   "outputs": [
    {
     "data": {
      "text/plain": "array([[2, 3],\n       [5, 7]])"
     },
     "execution_count": 9,
     "metadata": {},
     "output_type": "execute_result"
    }
   ],
   "source": [
    "m= np.array([[2,3],[5,7]])\n",
    "m"
   ],
   "metadata": {
    "collapsed": false,
    "pycharm": {
     "name": "#%%\n"
    }
   }
  },
  {
   "cell_type": "markdown",
   "source": [
    "Matris Çarpımı"
   ],
   "metadata": {
    "collapsed": false
   }
  },
  {
   "cell_type": "code",
   "execution_count": 10,
   "outputs": [
    {
     "data": {
      "text/plain": "array([ 8, 19])"
     },
     "execution_count": 10,
     "metadata": {},
     "output_type": "execute_result"
    }
   ],
   "source": [
    "m.dot(v)"
   ],
   "metadata": {
    "collapsed": false,
    "pycharm": {
     "name": "#%%\n"
    }
   }
  },
  {
   "cell_type": "markdown",
   "source": [
    "SpreadSheet Örnek"
   ],
   "metadata": {
    "collapsed": false
   }
  },
  {
   "cell_type": "code",
   "execution_count": 11,
   "outputs": [
    {
     "data": {
      "text/plain": "array([[ 1,  9, 10,  5,  8],\n       [ 6,  7,  5,  7, 10],\n       [ 7,  5, 10,  3,  3],\n       [ 5,  9, 10,  6,  9],\n       [ 1,  7, 10, 10,  8],\n       [ 8, 10,  7,  6,  8],\n       [10,  5,  9,  4,  6],\n       [ 4,  9, 10,  7,  1],\n       [ 7,  4,  6,  8,  3]])"
     },
     "execution_count": 11,
     "metadata": {},
     "output_type": "execute_result"
    }
   ],
   "source": [
    "A= np.array([   [1,9,10,5,8],\n",
    "                [6,7,5,7,10],\n",
    "                [7,5,10,3,3],\n",
    "                [5,9,10,6,9],\n",
    "                [1,7,10,10,8],\n",
    "                [8,10,7,6,8],\n",
    "                [10,5,9,4,6],\n",
    "                [4,9,10,7,1],\n",
    "                [7,4,6,8,3]  ])\n",
    "A"
   ],
   "metadata": {
    "collapsed": false,
    "pycharm": {
     "name": "#%%\n"
    }
   }
  },
  {
   "cell_type": "code",
   "execution_count": 12,
   "outputs": [
    {
     "data": {
      "text/plain": "(9, 5)"
     },
     "execution_count": 12,
     "metadata": {},
     "output_type": "execute_result"
    }
   ],
   "source": [
    "A.shape"
   ],
   "metadata": {
    "collapsed": false,
    "pycharm": {
     "name": "#%%\n"
    }
   }
  },
  {
   "cell_type": "code",
   "execution_count": 13,
   "outputs": [
    {
     "data": {
      "text/plain": "array([[ 5,  9,  3,  1, 10,  8,  6,  6,  2],\n       [ 5,  8,  2,  5,  9,  5, 10,  8,  7],\n       [ 7,  8,  4,  9,  5,  5,  5,  7,  7],\n       [ 3,  3,  5,  2, 10,  7,  8,  9,  4],\n       [ 9,  9,  9,  4,  3,  9,  1,  4,  7]])"
     },
     "execution_count": 13,
     "metadata": {},
     "output_type": "execute_result"
    }
   ],
   "source": [
    "B=np.array([   [5,9,3,1,10,8,6,6,2],\n",
    "                [5,8,2,5,9,5,10,8,7],\n",
    "                [7,8,4,9,5,5,5,7,7],\n",
    "                [3,3,5,2,10,7,8,9,4],\n",
    "                [9,9,9,4,3,9,1,4,7],])\n",
    "B"
   ],
   "metadata": {
    "collapsed": false,
    "pycharm": {
     "name": "#%%\n"
    }
   }
  },
  {
   "cell_type": "code",
   "execution_count": 14,
   "outputs": [
    {
     "data": {
      "text/plain": "(5, 9)"
     },
     "execution_count": 14,
     "metadata": {},
     "output_type": "execute_result"
    }
   ],
   "source": [
    "B.shape"
   ],
   "metadata": {
    "collapsed": false,
    "pycharm": {
     "name": "#%%\n"
    }
   }
  },
  {
   "cell_type": "code",
   "execution_count": 15,
   "outputs": [
    {
     "data": {
      "text/plain": "array([[207, 248, 158, 178, 215, 210, 194, 225, 211],\n       [211, 261, 177, 140, 248, 247, 197, 230, 194],\n       [166, 219, 113, 140, 204, 179, 169, 191, 152],\n       [239, 296, 184, 188, 268, 258, 227, 262, 230],\n       [212, 247, 179, 178, 247, 235, 214, 254, 217],\n       [229, 298, 174, 165, 289, 263, 239, 263, 215],\n       [204, 268, 150, 148, 248, 232, 193, 223, 176],\n       [165, 218, 114, 157, 244, 185, 221, 233, 176],\n       [148, 194, 120, 109, 225, 189, 179, 200, 137]])"
     },
     "execution_count": 15,
     "metadata": {},
     "output_type": "execute_result"
    }
   ],
   "source": [
    "A.dot(B)\n"
   ],
   "metadata": {
    "collapsed": false,
    "pycharm": {
     "name": "#%%\n"
    }
   }
  }
 ],
 "metadata": {
  "kernelspec": {
   "display_name": "Python 3",
   "language": "python",
   "name": "python3"
  },
  "language_info": {
   "codemirror_mode": {
    "name": "ipython",
    "version": 2
   },
   "file_extension": ".py",
   "mimetype": "text/x-python",
   "name": "python",
   "nbconvert_exporter": "python",
   "pygments_lexer": "ipython2",
   "version": "2.7.6"
  }
 },
 "nbformat": 4,
 "nbformat_minor": 0
}