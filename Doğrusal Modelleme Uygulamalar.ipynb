{
 "cells": [
  {
   "cell_type": "code",
   "execution_count": 5,
   "metadata": {},
   "outputs": [],
   "source": [
    "import pandas as pd\n",
    "import numpy as np\n",
    "import matplotlib.pyplot as plt\n",
    "from pyomo.environ import *\n"
   ]
  },
  {
   "cell_type": "markdown",
   "metadata": {},
   "source": [
    "## Çok Dönemli İş  Planlaması "
   ]
  },
  {
   "cell_type": "code",
   "execution_count": 7,
   "metadata": {},
   "outputs": [],
   "source": [
    "değişkenler=[]\n",
    "for ay in [\"Ocak\",\"Şubat\",\"Mart\",\"Nisan\",\"Mayıs\",\"Haziran\"]:\n",
    "        for opsiyon in [\"1 aylık\",\"2 aylık\",\"3 aylık\"]:\n",
    "            değişkenler.append((ay,opsiyon))"
   ]
  },
  {
   "cell_type": "code",
   "execution_count": 8,
   "metadata": {},
   "outputs": [
    {
     "data": {
      "text/plain": [
       "[('Ocak', '1 aylık'),\n",
       " ('Ocak', '2 aylık'),\n",
       " ('Ocak', '3 aylık'),\n",
       " ('Şubat', '1 aylık'),\n",
       " ('Şubat', '2 aylık'),\n",
       " ('Şubat', '3 aylık'),\n",
       " ('Mart', '1 aylık'),\n",
       " ('Mart', '2 aylık'),\n",
       " ('Mart', '3 aylık'),\n",
       " ('Nisan', '1 aylık'),\n",
       " ('Nisan', '2 aylık'),\n",
       " ('Nisan', '3 aylık'),\n",
       " ('Mayıs', '1 aylık'),\n",
       " ('Mayıs', '2 aylık'),\n",
       " ('Mayıs', '3 aylık'),\n",
       " ('Haziran', '1 aylık'),\n",
       " ('Haziran', '2 aylık'),\n",
       " ('Haziran', '3 aylık')]"
      ]
     },
     "execution_count": 8,
     "metadata": {},
     "output_type": "execute_result"
    }
   ],
   "source": [
    "değişkenler"
   ]
  },
  {
   "cell_type": "code",
   "execution_count": null,
   "metadata": {},
   "outputs": [],
   "source": [
    "def model_oluştur():\n",
    "    model = ConcreteModel()\n",
    "    bilgisayar_talep=[9,5,7,9,10,5]\n",
    "    maliyet_1_aylık=200\n",
    "    maliyet_2_aylık=350\n",
    "    maliyet_3_aylık=450\n",
    "    maliyet_2_aylık_uzatma=175\n",
    "    maliyet_3_aylık_uzatma=150\n",
    "    \n",
    "    değişkenler=[]\n",
    "    for ay in [\"Ocak\",\"Şubat\",\"Mart\",\"Nisan\",\"Mayıs\",\"Haziran\"]:\n",
    "            for opsiyon in [\"1 aylık\",\"2 aylık\",\"3 aylık\"]:\n",
    "                değişkenler.append((ay,opsiyon))\n",
    "    for ay in [\"Mart\",\"Nisan\",\"Mayıs\",\"Haziran\"]:\n",
    "         değişkenler.append((ay,\"2 aylık uzatım\"))\n",
    "    for ay in [\"Nisan\",\"Mayıs\",\"Haziran\"]:\n",
    "         değişkenler.append((ay,\"3 aylık uzatım\"))\n",
    "    \n",
    "    "
   ]
  },
  {
   "cell_type": "code",
   "execution_count": 6,
   "metadata": {},
   "outputs": [
    {
     "data": {
      "text/plain": [
       "[0, 1, 2, 3, 4, 5]"
      ]
     },
     "execution_count": 6,
     "metadata": {},
     "output_type": "execute_result"
    }
   ],
   "source": [
    "[i for i in range(6)]"
   ]
  },
  {
   "cell_type": "code",
   "execution_count": null,
   "metadata": {},
   "outputs": [],
   "source": [
    "process_variables={\n",
    "    1:{'time':2,'cost':2,'output':{'input_1':2},'input':{'raw':1}},\n",
    "    2:{'time':2,'cost':4,'output':{'input_2':3},'input':{'raw':1}},\n",
    "    3:{'time':2,'cost':1,'output':{'product_A':1,'waste':1},'input':{'input_1':2,'input_2':1}},\n",
    "    4:{'time':3,'cost':8,'output':{'product_B':1,'waste':.8},'input':{'input_1':1,'input_2':2}},\n",
    "     5:{'time':1,'cost':4,'output':{'product_C':1},'input':{'input_1':2, 'waste':.8}},\n",
    "     6:{'time':1,'cost':5,'output':{'product_D':1},'input':{'input_2':2, 'waste':1.2}},\n",
    "}\n",
    "waste=1000\n",
    "processing_time=6000\n",
    "raw_cost=6\n",
    "\n",
    "\n",
    "sales_variables={\n",
    "    'product_A':{'demand':5000,'price':18},\n",
    "    'product_B':{'demand':1000,'price':24},\n",
    "    'product_C':{'demand':10^9999,'price':11},\n",
    "    'product_D':{'demand':10^9999,'price':11},\n",
    "    \n",
    "}\n",
    "\n",
    "\n",
    "model.process_variables = Var(process_variables.keys(),domain=NonNegativeReals)\n",
    "\n",
    "\n",
    "\n",
    "sales_revenue= sum(model.sales_variables[sales_var]*sales_variables[sales_var]['price']  for sales_var in sales_variables.keys())\n",
    "\n",
    "\n",
    "process_cost= sum(model.process_variables[process_var]*process_variables[process_var]['cost']  for process_var in process_variables.keys())\n",
    "total_process=sum(model.process_variables[process_var]  for process_var in process_variables.keys())\n",
    "\n",
    "raw_amount=  model.process_variables[1]+model.process_variables[2]\n",
    "\n",
    "procurement_cost=raw_amount*raw_cost\n",
    "\n",
    "model.goal = Objective(expr = sales_revenue-process_cost-procurement_cost , sense=maximize)\n",
    "\n",
    "model.constraints = ConstraintList()\n",
    "\n",
    "model.constraints.add(total_process  <= processing_time )\n",
    "\n",
    "for sales_var in sales_variables.keys():\n",
    "    model.constraints.add( model.sales_variables[sales_var] -sales_variables[sales_var]['demand'] <= 0 )\n",
    "\n",
    "produced_waste=model.process_variables[3] + 0.8*model.process_variables[4] - 0.8*model.process_variables[5] - 1.2*model.process_variables[6]    \n",
    "model.constraints.add(  produced_waste  <= waste )   \n",
    "  \n",
    "model.constraints.add(   2*model.process_variables[1]  - 2*model.process_variables[3]  -  model.process_variables[4]-  2*model.process_variables[5]  == 0 ) \n",
    "model.constraints.add(   3*model.process_variables[2]  - 1*model.process_variables[3]  -  2*model.process_variables[4]-  2*model.process_variables[6]  == 0 )     \n",
    "    \n",
    "model.constraints.add(   model.process_variables[3] -  model.sales_variables['product_A']  == 0 )  \n",
    "model.constraints.add(   model.process_variables[4] -  model.sales_variables['product_B']  == 0 ) \n",
    "model.constraints.add(   model.process_variables[5] -  model.sales_variables['product_C']  == 0 ) \n",
    "model.constraints.add(   model.process_variables[6] -  model.sales_variables['product_D']  == 0 ) \n",
    "    \n",
    "model.pprint()\n",
    "\n",
    "SolverFactory('cbc',executable=path).solve(model).write()\n",
    "\n",
    "SolverFactory('glpk').solve(model).write()"
   ]
  },
  {
   "cell_type": "code",
   "execution_count": null,
   "metadata": {},
   "outputs": [],
   "source": []
  }
 ],
 "metadata": {
  "kernelspec": {
   "display_name": "Python 3",
   "language": "python",
   "name": "python3"
  },
  "language_info": {
   "codemirror_mode": {
    "name": "ipython",
    "version": 3
   },
   "file_extension": ".py",
   "mimetype": "text/x-python",
   "name": "python",
   "nbconvert_exporter": "python",
   "pygments_lexer": "ipython3",
   "version": "3.8.5"
  }
 },
 "nbformat": 4,
 "nbformat_minor": 1
}
